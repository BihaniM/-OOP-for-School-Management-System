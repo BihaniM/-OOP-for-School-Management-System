{
 "cells": [
  {
   "cell_type": "code",
   "execution_count": 2,
   "metadata": {},
   "outputs": [],
   "source": [
    "import pandas as pd\n",
    "import numpy as np\n",
    "import seaborn as sns\n",
    "import matplotlib.pyplot as plt"
   ]
  },
  {
   "cell_type": "markdown",
   "metadata": {},
   "source": [
    "Data Pre-Processing"
   ]
  },
  {
   "cell_type": "markdown",
   "metadata": {},
   "source": [
    "1. Load the CSV into a DataFrame"
   ]
  },
  {
   "cell_type": "code",
   "execution_count": 3,
   "metadata": {},
   "outputs": [],
   "source": [
    "df = pd.read_csv(\"imdb_top_movies.csv\")"
   ]
  },
  {
   "cell_type": "code",
   "execution_count": 4,
   "metadata": {},
   "outputs": [
    {
     "data": {
      "text/html": [
       "<div>\n",
       "<style scoped>\n",
       "    .dataframe tbody tr th:only-of-type {\n",
       "        vertical-align: middle;\n",
       "    }\n",
       "\n",
       "    .dataframe tbody tr th {\n",
       "        vertical-align: top;\n",
       "    }\n",
       "\n",
       "    .dataframe thead th {\n",
       "        text-align: right;\n",
       "    }\n",
       "</style>\n",
       "<table border=\"1\" class=\"dataframe\">\n",
       "  <thead>\n",
       "    <tr style=\"text-align: right;\">\n",
       "      <th></th>\n",
       "      <th>Title</th>\n",
       "      <th>Year</th>\n",
       "      <th>Rating</th>\n",
       "      <th>Genre</th>\n",
       "      <th>Director(s)</th>\n",
       "      <th>Box Office Revenue</th>\n",
       "      <th>Lead Actors</th>\n",
       "    </tr>\n",
       "  </thead>\n",
       "  <tbody>\n",
       "    <tr>\n",
       "      <th>0</th>\n",
       "      <td>1. The Shawshank Redemption</td>\n",
       "      <td>1994</td>\n",
       "      <td>9.3 (3M)</td>\n",
       "      <td>Epic, Period Drama, Prison Drama, Drama</td>\n",
       "      <td>The Ink Spots, Jack Lawrence, Stephen King, Ti...</td>\n",
       "      <td>Gross worldwide$29,332,133</td>\n",
       "      <td>Bob Gunton, Morgan Freeman, Tim Robbins</td>\n",
       "    </tr>\n",
       "    <tr>\n",
       "      <th>1</th>\n",
       "      <td>2. The Godfather</td>\n",
       "      <td>1972</td>\n",
       "      <td>9.2 (2.1M)</td>\n",
       "      <td>Epic, Gangster, Tragedy, Crime, Drama</td>\n",
       "      <td>Mario Puzo, Marlon Brando, Peter Clemenza, Al ...</td>\n",
       "      <td>Gross worldwide$250,342,198</td>\n",
       "      <td>Al Pacino, Marlon Brando, James Caan</td>\n",
       "    </tr>\n",
       "    <tr>\n",
       "      <th>2</th>\n",
       "      <td>3. The Dark Knight</td>\n",
       "      <td>2008</td>\n",
       "      <td>9.0 (3M)</td>\n",
       "      <td>Action Epic, Epic, Superhero, Tragedy, Action,...</td>\n",
       "      <td>Aaron Eckhart, Michael Caine, The Joker, Jonat...</td>\n",
       "      <td>Gross worldwide$1,009,057,329</td>\n",
       "      <td>Aaron Eckhart, Christian Bale, Heath Ledger</td>\n",
       "    </tr>\n",
       "    <tr>\n",
       "      <th>3</th>\n",
       "      <td>4. The Godfather Part II</td>\n",
       "      <td>1974</td>\n",
       "      <td>9.0 (1.4M)</td>\n",
       "      <td>Epic, Gangster, Tragedy, Crime, Drama</td>\n",
       "      <td>Mario Puzo, Francesco Pennino, Al Pacino, Robe...</td>\n",
       "      <td>Gross worldwide$47,964,222</td>\n",
       "      <td>Al Pacino, Robert De Niro, Robert Duvall</td>\n",
       "    </tr>\n",
       "    <tr>\n",
       "      <th>4</th>\n",
       "      <td>5. 12 Angry Men</td>\n",
       "      <td>1957</td>\n",
       "      <td>9.0 (917K)</td>\n",
       "      <td>Legal Drama, Psychological Drama, Crime, Drama</td>\n",
       "      <td>Henry Fonda, Jack Warden, Lee J. Cobb, Juror #...</td>\n",
       "      <td>Gross worldwide$2,945</td>\n",
       "      <td>Henry Fonda, Martin Balsam, Lee J. Cobb</td>\n",
       "    </tr>\n",
       "  </tbody>\n",
       "</table>\n",
       "</div>"
      ],
      "text/plain": [
       "                         Title  Year      Rating  \\\n",
       "0  1. The Shawshank Redemption  1994    9.3 (3M)   \n",
       "1             2. The Godfather  1972  9.2 (2.1M)   \n",
       "2           3. The Dark Knight  2008    9.0 (3M)   \n",
       "3     4. The Godfather Part II  1974  9.0 (1.4M)   \n",
       "4              5. 12 Angry Men  1957  9.0 (917K)   \n",
       "\n",
       "                                               Genre  \\\n",
       "0            Epic, Period Drama, Prison Drama, Drama   \n",
       "1              Epic, Gangster, Tragedy, Crime, Drama   \n",
       "2  Action Epic, Epic, Superhero, Tragedy, Action,...   \n",
       "3              Epic, Gangster, Tragedy, Crime, Drama   \n",
       "4     Legal Drama, Psychological Drama, Crime, Drama   \n",
       "\n",
       "                                         Director(s)  \\\n",
       "0  The Ink Spots, Jack Lawrence, Stephen King, Ti...   \n",
       "1  Mario Puzo, Marlon Brando, Peter Clemenza, Al ...   \n",
       "2  Aaron Eckhart, Michael Caine, The Joker, Jonat...   \n",
       "3  Mario Puzo, Francesco Pennino, Al Pacino, Robe...   \n",
       "4  Henry Fonda, Jack Warden, Lee J. Cobb, Juror #...   \n",
       "\n",
       "              Box Office Revenue                                  Lead Actors  \n",
       "0     Gross worldwide$29,332,133      Bob Gunton, Morgan Freeman, Tim Robbins  \n",
       "1    Gross worldwide$250,342,198         Al Pacino, Marlon Brando, James Caan  \n",
       "2  Gross worldwide$1,009,057,329  Aaron Eckhart, Christian Bale, Heath Ledger  \n",
       "3     Gross worldwide$47,964,222     Al Pacino, Robert De Niro, Robert Duvall  \n",
       "4          Gross worldwide$2,945      Henry Fonda, Martin Balsam, Lee J. Cobb  "
      ]
     },
     "execution_count": 4,
     "metadata": {},
     "output_type": "execute_result"
    }
   ],
   "source": [
    "df.head()"
   ]
  },
  {
   "cell_type": "markdown",
   "metadata": {},
   "source": [
    "2. Data Cleaning and Type Conversion"
   ]
  },
  {
   "cell_type": "code",
   "execution_count": 5,
   "metadata": {},
   "outputs": [
    {
     "data": {
      "text/plain": [
       "pandas.core.frame.DataFrame"
      ]
     },
     "execution_count": 5,
     "metadata": {},
     "output_type": "execute_result"
    }
   ],
   "source": [
    "type(df)"
   ]
  },
  {
   "cell_type": "code",
   "execution_count": 6,
   "metadata": {},
   "outputs": [
    {
     "data": {
      "text/plain": [
       "(250, 7)"
      ]
     },
     "execution_count": 6,
     "metadata": {},
     "output_type": "execute_result"
    }
   ],
   "source": [
    "df.shape"
   ]
  },
  {
   "cell_type": "code",
   "execution_count": 7,
   "metadata": {},
   "outputs": [
    {
     "data": {
      "text/plain": [
       "Title                 0\n",
       "Year                  0\n",
       "Rating                0\n",
       "Genre                 0\n",
       "Director(s)           0\n",
       "Box Office Revenue    0\n",
       "Lead Actors           0\n",
       "dtype: int64"
      ]
     },
     "execution_count": 7,
     "metadata": {},
     "output_type": "execute_result"
    }
   ],
   "source": [
    "#Null Value check\n",
    "\n",
    "df.isna().sum()"
   ]
  },
  {
   "cell_type": "code",
   "execution_count": 8,
   "metadata": {},
   "outputs": [
    {
     "data": {
      "text/html": [
       "<div>\n",
       "<style scoped>\n",
       "    .dataframe tbody tr th:only-of-type {\n",
       "        vertical-align: middle;\n",
       "    }\n",
       "\n",
       "    .dataframe tbody tr th {\n",
       "        vertical-align: top;\n",
       "    }\n",
       "\n",
       "    .dataframe thead th {\n",
       "        text-align: right;\n",
       "    }\n",
       "</style>\n",
       "<table border=\"1\" class=\"dataframe\">\n",
       "  <thead>\n",
       "    <tr style=\"text-align: right;\">\n",
       "      <th></th>\n",
       "      <th>Title</th>\n",
       "      <th>Year</th>\n",
       "      <th>Rating</th>\n",
       "      <th>Genre</th>\n",
       "      <th>Director(s)</th>\n",
       "      <th>Box Office Revenue</th>\n",
       "      <th>Lead Actors</th>\n",
       "    </tr>\n",
       "  </thead>\n",
       "  <tbody>\n",
       "    <tr>\n",
       "      <th>0</th>\n",
       "      <td>1. The Shawshank Redemption</td>\n",
       "      <td>1994</td>\n",
       "      <td>9.3 (3M)</td>\n",
       "      <td>Epic, Period Drama, Prison Drama, Drama</td>\n",
       "      <td>The Ink Spots, Jack Lawrence, Stephen King, Ti...</td>\n",
       "      <td>Gross worldwide$29,332,133</td>\n",
       "      <td>Bob Gunton, Morgan Freeman, Tim Robbins</td>\n",
       "    </tr>\n",
       "    <tr>\n",
       "      <th>1</th>\n",
       "      <td>2. The Godfather</td>\n",
       "      <td>1972</td>\n",
       "      <td>9.2 (2.1M)</td>\n",
       "      <td>Epic, Gangster, Tragedy, Crime, Drama</td>\n",
       "      <td>Mario Puzo, Marlon Brando, Peter Clemenza, Al ...</td>\n",
       "      <td>Gross worldwide$250,342,198</td>\n",
       "      <td>Al Pacino, Marlon Brando, James Caan</td>\n",
       "    </tr>\n",
       "    <tr>\n",
       "      <th>2</th>\n",
       "      <td>3. The Dark Knight</td>\n",
       "      <td>2008</td>\n",
       "      <td>9.0 (3M)</td>\n",
       "      <td>Action Epic, Epic, Superhero, Tragedy, Action,...</td>\n",
       "      <td>Aaron Eckhart, Michael Caine, The Joker, Jonat...</td>\n",
       "      <td>Gross worldwide$1,009,057,329</td>\n",
       "      <td>Aaron Eckhart, Christian Bale, Heath Ledger</td>\n",
       "    </tr>\n",
       "    <tr>\n",
       "      <th>3</th>\n",
       "      <td>4. The Godfather Part II</td>\n",
       "      <td>1974</td>\n",
       "      <td>9.0 (1.4M)</td>\n",
       "      <td>Epic, Gangster, Tragedy, Crime, Drama</td>\n",
       "      <td>Mario Puzo, Francesco Pennino, Al Pacino, Robe...</td>\n",
       "      <td>Gross worldwide$47,964,222</td>\n",
       "      <td>Al Pacino, Robert De Niro, Robert Duvall</td>\n",
       "    </tr>\n",
       "    <tr>\n",
       "      <th>4</th>\n",
       "      <td>5. 12 Angry Men</td>\n",
       "      <td>1957</td>\n",
       "      <td>9.0 (917K)</td>\n",
       "      <td>Legal Drama, Psychological Drama, Crime, Drama</td>\n",
       "      <td>Henry Fonda, Jack Warden, Lee J. Cobb, Juror #...</td>\n",
       "      <td>Gross worldwide$2,945</td>\n",
       "      <td>Henry Fonda, Martin Balsam, Lee J. Cobb</td>\n",
       "    </tr>\n",
       "    <tr>\n",
       "      <th>...</th>\n",
       "      <td>...</td>\n",
       "      <td>...</td>\n",
       "      <td>...</td>\n",
       "      <td>...</td>\n",
       "      <td>...</td>\n",
       "      <td>...</td>\n",
       "      <td>...</td>\n",
       "    </tr>\n",
       "    <tr>\n",
       "      <th>245</th>\n",
       "      <td>246. A Silent Voice: The Movie</td>\n",
       "      <td>2016</td>\n",
       "      <td>8.1 (117K)</td>\n",
       "      <td>Anime, Coming-of-Age, Psychological Drama, Shō...</td>\n",
       "      <td>Saori Hayami, Naoko Yamada, Lexi Marman, Shoko...</td>\n",
       "      <td>Gross worldwide$30,819,442</td>\n",
       "      <td>Miyu Irino, Saori Hayami, Aoi Yûki</td>\n",
       "    </tr>\n",
       "    <tr>\n",
       "      <th>246</th>\n",
       "      <td>247. The Help</td>\n",
       "      <td>2011</td>\n",
       "      <td>8.1 (510K)</td>\n",
       "      <td>Period Drama, Drama</td>\n",
       "      <td>Hilly Holbrook, Emma Stone, Jerry Leiber, Tate...</td>\n",
       "      <td>Gross worldwide$221,802,186</td>\n",
       "      <td>Emma Stone, Octavia Spencer, Viola Davis</td>\n",
       "    </tr>\n",
       "    <tr>\n",
       "      <th>247</th>\n",
       "      <td>248. Amores Perros</td>\n",
       "      <td>2000</td>\n",
       "      <td>8.0 (261K)</td>\n",
       "      <td>Tragedy, Drama, Thriller</td>\n",
       "      <td>Emilio Echevarría, Guillermo Arriaga, Alejandr...</td>\n",
       "      <td>Gross worldwide$20,908,467</td>\n",
       "      <td>Goya Toledo, Gael García Bernal, Emilio Echeva...</td>\n",
       "    </tr>\n",
       "    <tr>\n",
       "      <th>248</th>\n",
       "      <td>249. Rebecca</td>\n",
       "      <td>1940</td>\n",
       "      <td>8.1 (153K)</td>\n",
       "      <td>Dark Romance, Psychological Drama, Psychologic...</td>\n",
       "      <td>Laurence Olivier, Mrs. Danvers, The Second Mrs...</td>\n",
       "      <td>Gross worldwide$113,328</td>\n",
       "      <td>Laurence Olivier, George Sanders, Joan Fontaine</td>\n",
       "    </tr>\n",
       "    <tr>\n",
       "      <th>249</th>\n",
       "      <td>250. Gangs of Wasseypur</td>\n",
       "      <td>2012</td>\n",
       "      <td>8.2 (107K)</td>\n",
       "      <td>Gangster, Satire, True Crime, Action, Comedy, ...</td>\n",
       "      <td>Manoj Bajpayee, Tigmanshu Dhulia, Manoj Tiwari...</td>\n",
       "      <td>Gross worldwide$4,384,642</td>\n",
       "      <td>Manoj Bajpayee, Nawazuddin Siddiqui, Tigmanshu...</td>\n",
       "    </tr>\n",
       "  </tbody>\n",
       "</table>\n",
       "<p>250 rows × 7 columns</p>\n",
       "</div>"
      ],
      "text/plain": [
       "                              Title  Year      Rating  \\\n",
       "0       1. The Shawshank Redemption  1994    9.3 (3M)   \n",
       "1                  2. The Godfather  1972  9.2 (2.1M)   \n",
       "2                3. The Dark Knight  2008    9.0 (3M)   \n",
       "3          4. The Godfather Part II  1974  9.0 (1.4M)   \n",
       "4                   5. 12 Angry Men  1957  9.0 (917K)   \n",
       "..                              ...   ...         ...   \n",
       "245  246. A Silent Voice: The Movie  2016  8.1 (117K)   \n",
       "246                   247. The Help  2011  8.1 (510K)   \n",
       "247              248. Amores Perros  2000  8.0 (261K)   \n",
       "248                    249. Rebecca  1940  8.1 (153K)   \n",
       "249         250. Gangs of Wasseypur  2012  8.2 (107K)   \n",
       "\n",
       "                                                 Genre  \\\n",
       "0              Epic, Period Drama, Prison Drama, Drama   \n",
       "1                Epic, Gangster, Tragedy, Crime, Drama   \n",
       "2    Action Epic, Epic, Superhero, Tragedy, Action,...   \n",
       "3                Epic, Gangster, Tragedy, Crime, Drama   \n",
       "4       Legal Drama, Psychological Drama, Crime, Drama   \n",
       "..                                                 ...   \n",
       "245  Anime, Coming-of-Age, Psychological Drama, Shō...   \n",
       "246                                Period Drama, Drama   \n",
       "247                           Tragedy, Drama, Thriller   \n",
       "248  Dark Romance, Psychological Drama, Psychologic...   \n",
       "249  Gangster, Satire, True Crime, Action, Comedy, ...   \n",
       "\n",
       "                                           Director(s)  \\\n",
       "0    The Ink Spots, Jack Lawrence, Stephen King, Ti...   \n",
       "1    Mario Puzo, Marlon Brando, Peter Clemenza, Al ...   \n",
       "2    Aaron Eckhart, Michael Caine, The Joker, Jonat...   \n",
       "3    Mario Puzo, Francesco Pennino, Al Pacino, Robe...   \n",
       "4    Henry Fonda, Jack Warden, Lee J. Cobb, Juror #...   \n",
       "..                                                 ...   \n",
       "245  Saori Hayami, Naoko Yamada, Lexi Marman, Shoko...   \n",
       "246  Hilly Holbrook, Emma Stone, Jerry Leiber, Tate...   \n",
       "247  Emilio Echevarría, Guillermo Arriaga, Alejandr...   \n",
       "248  Laurence Olivier, Mrs. Danvers, The Second Mrs...   \n",
       "249  Manoj Bajpayee, Tigmanshu Dhulia, Manoj Tiwari...   \n",
       "\n",
       "                Box Office Revenue  \\\n",
       "0       Gross worldwide$29,332,133   \n",
       "1      Gross worldwide$250,342,198   \n",
       "2    Gross worldwide$1,009,057,329   \n",
       "3       Gross worldwide$47,964,222   \n",
       "4            Gross worldwide$2,945   \n",
       "..                             ...   \n",
       "245     Gross worldwide$30,819,442   \n",
       "246    Gross worldwide$221,802,186   \n",
       "247     Gross worldwide$20,908,467   \n",
       "248        Gross worldwide$113,328   \n",
       "249      Gross worldwide$4,384,642   \n",
       "\n",
       "                                           Lead Actors  \n",
       "0              Bob Gunton, Morgan Freeman, Tim Robbins  \n",
       "1                 Al Pacino, Marlon Brando, James Caan  \n",
       "2          Aaron Eckhart, Christian Bale, Heath Ledger  \n",
       "3             Al Pacino, Robert De Niro, Robert Duvall  \n",
       "4              Henry Fonda, Martin Balsam, Lee J. Cobb  \n",
       "..                                                 ...  \n",
       "245                 Miyu Irino, Saori Hayami, Aoi Yûki  \n",
       "246           Emma Stone, Octavia Spencer, Viola Davis  \n",
       "247  Goya Toledo, Gael García Bernal, Emilio Echeva...  \n",
       "248    Laurence Olivier, George Sanders, Joan Fontaine  \n",
       "249  Manoj Bajpayee, Nawazuddin Siddiqui, Tigmanshu...  \n",
       "\n",
       "[250 rows x 7 columns]"
      ]
     },
     "execution_count": 8,
     "metadata": {},
     "output_type": "execute_result"
    }
   ],
   "source": [
    "#Dropping Duplicates\n",
    "df= df.drop_duplicates()\n",
    "df"
   ]
  },
  {
   "cell_type": "code",
   "execution_count": 9,
   "metadata": {},
   "outputs": [
    {
     "data": {
      "text/plain": [
       "Title                 object\n",
       "Year                   int64\n",
       "Rating                object\n",
       "Genre                 object\n",
       "Director(s)           object\n",
       "Box Office Revenue    object\n",
       "Lead Actors           object\n",
       "dtype: object"
      ]
     },
     "execution_count": 9,
     "metadata": {},
     "output_type": "execute_result"
    }
   ],
   "source": [
    "df.dtypes"
   ]
  },
  {
   "cell_type": "code",
   "execution_count": 10,
   "metadata": {},
   "outputs": [],
   "source": [
    "# Convert \"Year\" to numeric, coercing invalid entries to NaN\n",
    "df[\"Year\"] = pd.to_numeric(df[\"Year\"], errors=\"coerce\")\n",
    "\n",
    "# Convert \"Rating\" to numeric, coercing invalid entries to NaN\n",
    "df[\"Rating\"] = pd.to_numeric(df[\"Rating\"], errors=\"coerce\")"
   ]
  },
  {
   "cell_type": "code",
   "execution_count": 11,
   "metadata": {},
   "outputs": [],
   "source": [
    "# Convert \"Box Office Revenue\" to numeric\n",
    "# Assume the format might be like \"$123,456,789\" or \"Unknown\".\n",
    "def parse_box_office(value):\n",
    "    if isinstance(value, str):\n",
    "        value = value.strip()\n",
    "        if value.lower() == \"unknown\":\n",
    "            return np.nan\n",
    "        # Remove $, commas, etc.\n",
    "        value = value.replace(\"$\", \"\").replace(\",\", \"\")\n",
    "        # Try converting to float\n",
    "        try:\n",
    "            return float(value)\n",
    "        except ValueError:\n",
    "            return np.nan\n",
    "    return np.nan\n",
    "\n",
    "df[\"Box Office Revenue\"] = df[\"Box Office Revenue\"].apply(parse_box_office)"
   ]
  },
  {
   "cell_type": "markdown",
   "metadata": {},
   "source": [
    "3. Descriptive Statistics"
   ]
  },
  {
   "cell_type": "code",
   "execution_count": 15,
   "metadata": {},
   "outputs": [
    {
     "name": "stdout",
     "output_type": "stream",
     "text": [
      "\n",
      "=== Descriptive Statistics ===\n"
     ]
    },
    {
     "data": {
      "text/html": [
       "<div>\n",
       "<style scoped>\n",
       "    .dataframe tbody tr th:only-of-type {\n",
       "        vertical-align: middle;\n",
       "    }\n",
       "\n",
       "    .dataframe tbody tr th {\n",
       "        vertical-align: top;\n",
       "    }\n",
       "\n",
       "    .dataframe thead th {\n",
       "        text-align: right;\n",
       "    }\n",
       "</style>\n",
       "<table border=\"1\" class=\"dataframe\">\n",
       "  <thead>\n",
       "    <tr style=\"text-align: right;\">\n",
       "      <th></th>\n",
       "      <th>Year</th>\n",
       "      <th>Rating</th>\n",
       "      <th>Box Office Revenue</th>\n",
       "    </tr>\n",
       "  </thead>\n",
       "  <tbody>\n",
       "    <tr>\n",
       "      <th>count</th>\n",
       "      <td>250.000000</td>\n",
       "      <td>0.0</td>\n",
       "      <td>0.0</td>\n",
       "    </tr>\n",
       "    <tr>\n",
       "      <th>mean</th>\n",
       "      <td>1988.420000</td>\n",
       "      <td>NaN</td>\n",
       "      <td>NaN</td>\n",
       "    </tr>\n",
       "    <tr>\n",
       "      <th>std</th>\n",
       "      <td>25.589351</td>\n",
       "      <td>NaN</td>\n",
       "      <td>NaN</td>\n",
       "    </tr>\n",
       "    <tr>\n",
       "      <th>min</th>\n",
       "      <td>1921.000000</td>\n",
       "      <td>NaN</td>\n",
       "      <td>NaN</td>\n",
       "    </tr>\n",
       "    <tr>\n",
       "      <th>25%</th>\n",
       "      <td>1972.250000</td>\n",
       "      <td>NaN</td>\n",
       "      <td>NaN</td>\n",
       "    </tr>\n",
       "    <tr>\n",
       "      <th>50%</th>\n",
       "      <td>1995.000000</td>\n",
       "      <td>NaN</td>\n",
       "      <td>NaN</td>\n",
       "    </tr>\n",
       "    <tr>\n",
       "      <th>75%</th>\n",
       "      <td>2009.000000</td>\n",
       "      <td>NaN</td>\n",
       "      <td>NaN</td>\n",
       "    </tr>\n",
       "    <tr>\n",
       "      <th>max</th>\n",
       "      <td>2024.000000</td>\n",
       "      <td>NaN</td>\n",
       "      <td>NaN</td>\n",
       "    </tr>\n",
       "  </tbody>\n",
       "</table>\n",
       "</div>"
      ],
      "text/plain": [
       "              Year  Rating  Box Office Revenue\n",
       "count   250.000000     0.0                 0.0\n",
       "mean   1988.420000     NaN                 NaN\n",
       "std      25.589351     NaN                 NaN\n",
       "min    1921.000000     NaN                 NaN\n",
       "25%    1972.250000     NaN                 NaN\n",
       "50%    1995.000000     NaN                 NaN\n",
       "75%    2009.000000     NaN                 NaN\n",
       "max    2024.000000     NaN                 NaN"
      ]
     },
     "execution_count": 15,
     "metadata": {},
     "output_type": "execute_result"
    }
   ],
   "source": [
    "# Basic descriptive stats for Year, Rating, and Box Office\n",
    "print(\"\\n=== Descriptive Statistics ===\")\n",
    "df.describe()"
   ]
  },
  {
   "cell_type": "code",
   "execution_count": 16,
   "metadata": {},
   "outputs": [
    {
     "name": "stdout",
     "output_type": "stream",
     "text": [
      "\n",
      "Genre Distribution (Top 10):\n",
      "Genre\n",
      "Psychological Drama, Tragedy, Drama                                                                                                                      4\n",
      "Drama                                                                                                                                                    3\n",
      "Drama, Romance                                                                                                                                           2\n",
      "Adventure Epic, Desert Adventure, Globetrotting Adventure, Quest, Action, Adventure                                                                      2\n",
      "Psychological Thriller, Suspense Mystery, Drama, Mystery, Thriller                                                                                       2\n",
      "Action Epic, Adventure Epic, Dark Fantasy, Epic, Fantasy Epic, Globetrotting Adventure, Quest, Sci-Fi Epic, Space Sci-Fi, Sword & Sorcery                2\n",
      "Drama, Family                                                                                                                                            2\n",
      "Epic, War Epic, Drama, War                                                                                                                               2\n",
      "Epic, Gangster, Tragedy, Crime, Drama                                                                                                                    2\n",
      "Dark Romance, Erotic Thriller, Legal Thriller, Period Drama, Psychological Drama, Psychological Thriller, Suspense Mystery, Tragedy, Whodunnit, Drama    1\n",
      "Name: count, dtype: int64\n"
     ]
    }
   ],
   "source": [
    "print(\"\\nGenre Distribution (Top 10):\")\n",
    "print(df[\"Genre\"].value_counts().head(10))"
   ]
  },
  {
   "cell_type": "code",
   "execution_count": 17,
   "metadata": {},
   "outputs": [
    {
     "name": "stdout",
     "output_type": "stream",
     "text": [
      "\n",
      "Director(s) Distribution (Top 10):\n",
      "Director(s)\n",
      "The Ink Spots, Jack Lawrence, Stephen King, Tim Robbins, Hank Williams, Andy Dufresne, Bob Gunton, Frank Darabont, Morgan Freeman                                                      1\n",
      "Carl Foreman, David Lean, Alec Guinness, Jack Hawkins, Michael Wilson, William Holden, Colonel Nicholson, Malcolm Arnold, Kenneth Alford, Geoffrey Horne, Pierre Boulle, John Scott    1\n",
      "Samuel Barber, John Hurt, Mel Brooks, Christopher De Vore, London Symphony Orchestra, André Previn, Anthony Hopkins, Eric Bergren, Anne Bancroft, David Lynch, John Merrick            1\n",
      "Tony Wendice, Cary Grant, Grace Kelly, Robert Cummings, Mark Halliday, Margot Mary Wendice, Charles Dorat, Ray Milland, Frederick Knott, Alfred Hitchcock                              1\n",
      "Murilo Hauser, Fernanda Montenegro, Martha, Tim Maia, Marcelo Rubens Paiva, Eunice Paiva, Fernanda Torres, Heitor Lorega, Selton Mello, Walter Salles, Léo Maia                        1\n",
      "Hattie McDaniel, Margaret Mitchell, Clark Gable, Rhett Butler, Sidney Howard, Alfred Newman, Scarlett, Vivien Leigh, Oliver H.P. Garrett, Victor Fleming, Thomas Mitchell              1\n",
      "Akira Kurosawa, Shinobu Hashimoto, Commoner, Maurice Ravel, Fumio Hayasaka, Machiko Kyô, Ryûnosuke Akutagawa, Toshirô Mifune, Masayuki Mori                                            1\n",
      "Zara Larsson, Klaus, Carlos Martínez López, Rashida Jones, Jussifer, Justin Tranter, Zach Lewis, Sergio Pablos, Jim Mahoney, Caroline Pennell, J.K. Simmons, Jason Schwartzman         1\n",
      "Vernon Duke, Bunny Berigan and His Orchestra, Ira Gershwin, Faye Dunaway, Robert Towne, Roman Polanski, Walsh, Jack Nicholson, John Huston                                             1\n",
      "Ricardo Darín, Eduardo Sacheri, Pablo Rago, Soledad Villamil, Emilio Kauderer, Pablo Sandoval, Juan José Campanella                                                                    1\n",
      "Name: count, dtype: int64\n"
     ]
    }
   ],
   "source": [
    "print(\"\\nDirector(s) Distribution (Top 10):\")\n",
    "print(df[\"Director(s)\"].value_counts().head(10))"
   ]
  },
  {
   "cell_type": "code",
   "execution_count": 18,
   "metadata": {},
   "outputs": [
    {
     "name": "stdout",
     "output_type": "stream",
     "text": [
      "\n",
      "Lead Actors (Top 10):\n",
      "Lead Actors\n",
      "Carrie Fisher, Harrison Ford, Mark Hamill           3\n",
      "Elijah Wood, Viggo Mortensen, Ian McKellen          2\n",
      "Bob Gunton, Morgan Freeman, Tim Robbins             1\n",
      "Natalie Portman, Hugo Weaving, Rupert Graves        1\n",
      "Jonny Lee Miller, Ewen Bremner, Ewan McGregor       1\n",
      "Jack Hawkins, William Holden, Alec Guinness         1\n",
      "Woody Harrelson, Frances McDormand, Sam Rockwell    1\n",
      "Pedro Pascal, Lupita Nyong'o, Kit Connor            1\n",
      "Amy Poehler, Bill Hader, Lewis Black                1\n",
      "Jason Flemyng, Nick Moran, Dexter Fletcher          1\n",
      "Name: count, dtype: int64\n"
     ]
    }
   ],
   "source": [
    "print(\"\\nLead Actors (Top 10):\")\n",
    "print(df[\"Lead Actors\"].value_counts().head(10))"
   ]
  },
  {
   "cell_type": "code",
   "execution_count": null,
   "metadata": {},
   "outputs": [],
   "source": []
  }
 ],
 "metadata": {
  "kernelspec": {
   "display_name": "base",
   "language": "python",
   "name": "python3"
  },
  "language_info": {
   "codemirror_mode": {
    "name": "ipython",
    "version": 3
   },
   "file_extension": ".py",
   "mimetype": "text/x-python",
   "name": "python",
   "nbconvert_exporter": "python",
   "pygments_lexer": "ipython3",
   "version": "3.12.7"
  }
 },
 "nbformat": 4,
 "nbformat_minor": 2
}
