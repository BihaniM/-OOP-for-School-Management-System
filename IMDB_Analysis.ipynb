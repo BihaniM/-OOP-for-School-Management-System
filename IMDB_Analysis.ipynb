{
 "cells": [
  {
   "cell_type": "code",
   "execution_count": 164,
   "metadata": {},
   "outputs": [],
   "source": [
    "import pandas as pd\n",
    "import numpy as np\n",
    "import seaborn as sns\n",
    "import matplotlib.pyplot as plt\n",
    "import re"
   ]
  },
  {
   "cell_type": "markdown",
   "metadata": {},
   "source": [
    "Data Pre-Processing"
   ]
  },
  {
   "cell_type": "markdown",
   "metadata": {},
   "source": [
    "1. Load the CSV into a DataFrame"
   ]
  },
  {
   "cell_type": "code",
   "execution_count": 165,
   "metadata": {},
   "outputs": [],
   "source": [
    "df = pd.read_csv(\"imdb_top_movies.csv\")"
   ]
  },
  {
   "cell_type": "code",
   "execution_count": 166,
   "metadata": {},
   "outputs": [
    {
     "data": {
      "text/html": [
       "<div>\n",
       "<style scoped>\n",
       "    .dataframe tbody tr th:only-of-type {\n",
       "        vertical-align: middle;\n",
       "    }\n",
       "\n",
       "    .dataframe tbody tr th {\n",
       "        vertical-align: top;\n",
       "    }\n",
       "\n",
       "    .dataframe thead th {\n",
       "        text-align: right;\n",
       "    }\n",
       "</style>\n",
       "<table border=\"1\" class=\"dataframe\">\n",
       "  <thead>\n",
       "    <tr style=\"text-align: right;\">\n",
       "      <th></th>\n",
       "      <th>Title</th>\n",
       "      <th>Year</th>\n",
       "      <th>Rating</th>\n",
       "      <th>Genre</th>\n",
       "      <th>Director(s)</th>\n",
       "      <th>Box Office Revenue</th>\n",
       "      <th>Lead Actors</th>\n",
       "    </tr>\n",
       "  </thead>\n",
       "  <tbody>\n",
       "    <tr>\n",
       "      <th>0</th>\n",
       "      <td>1. The Shawshank Redemption</td>\n",
       "      <td>1994</td>\n",
       "      <td>9.3 (3M)</td>\n",
       "      <td>Epic, Period Drama, Prison Drama, Drama</td>\n",
       "      <td>The Ink Spots, Jack Lawrence, Stephen King, Ti...</td>\n",
       "      <td>Gross worldwide$29,332,133</td>\n",
       "      <td>Bob Gunton, Morgan Freeman, Tim Robbins</td>\n",
       "    </tr>\n",
       "    <tr>\n",
       "      <th>1</th>\n",
       "      <td>2. The Godfather</td>\n",
       "      <td>1972</td>\n",
       "      <td>9.2 (2.1M)</td>\n",
       "      <td>Epic, Gangster, Tragedy, Crime, Drama</td>\n",
       "      <td>Mario Puzo, Marlon Brando, Peter Clemenza, Al ...</td>\n",
       "      <td>Gross worldwide$250,342,198</td>\n",
       "      <td>Al Pacino, Marlon Brando, James Caan</td>\n",
       "    </tr>\n",
       "    <tr>\n",
       "      <th>2</th>\n",
       "      <td>3. The Dark Knight</td>\n",
       "      <td>2008</td>\n",
       "      <td>9.0 (3M)</td>\n",
       "      <td>Action Epic, Epic, Superhero, Tragedy, Action,...</td>\n",
       "      <td>Aaron Eckhart, Michael Caine, The Joker, Jonat...</td>\n",
       "      <td>Gross worldwide$1,009,057,329</td>\n",
       "      <td>Aaron Eckhart, Christian Bale, Heath Ledger</td>\n",
       "    </tr>\n",
       "    <tr>\n",
       "      <th>3</th>\n",
       "      <td>4. The Godfather Part II</td>\n",
       "      <td>1974</td>\n",
       "      <td>9.0 (1.4M)</td>\n",
       "      <td>Epic, Gangster, Tragedy, Crime, Drama</td>\n",
       "      <td>Mario Puzo, Francesco Pennino, Al Pacino, Robe...</td>\n",
       "      <td>Gross worldwide$47,964,222</td>\n",
       "      <td>Al Pacino, Robert De Niro, Robert Duvall</td>\n",
       "    </tr>\n",
       "    <tr>\n",
       "      <th>4</th>\n",
       "      <td>5. 12 Angry Men</td>\n",
       "      <td>1957</td>\n",
       "      <td>9.0 (917K)</td>\n",
       "      <td>Legal Drama, Psychological Drama, Crime, Drama</td>\n",
       "      <td>Henry Fonda, Jack Warden, Lee J. Cobb, Juror #...</td>\n",
       "      <td>Gross worldwide$2,945</td>\n",
       "      <td>Henry Fonda, Martin Balsam, Lee J. Cobb</td>\n",
       "    </tr>\n",
       "  </tbody>\n",
       "</table>\n",
       "</div>"
      ],
      "text/plain": [
       "                         Title  Year      Rating  \\\n",
       "0  1. The Shawshank Redemption  1994    9.3 (3M)   \n",
       "1             2. The Godfather  1972  9.2 (2.1M)   \n",
       "2           3. The Dark Knight  2008    9.0 (3M)   \n",
       "3     4. The Godfather Part II  1974  9.0 (1.4M)   \n",
       "4              5. 12 Angry Men  1957  9.0 (917K)   \n",
       "\n",
       "                                               Genre  \\\n",
       "0            Epic, Period Drama, Prison Drama, Drama   \n",
       "1              Epic, Gangster, Tragedy, Crime, Drama   \n",
       "2  Action Epic, Epic, Superhero, Tragedy, Action,...   \n",
       "3              Epic, Gangster, Tragedy, Crime, Drama   \n",
       "4     Legal Drama, Psychological Drama, Crime, Drama   \n",
       "\n",
       "                                         Director(s)  \\\n",
       "0  The Ink Spots, Jack Lawrence, Stephen King, Ti...   \n",
       "1  Mario Puzo, Marlon Brando, Peter Clemenza, Al ...   \n",
       "2  Aaron Eckhart, Michael Caine, The Joker, Jonat...   \n",
       "3  Mario Puzo, Francesco Pennino, Al Pacino, Robe...   \n",
       "4  Henry Fonda, Jack Warden, Lee J. Cobb, Juror #...   \n",
       "\n",
       "              Box Office Revenue                                  Lead Actors  \n",
       "0     Gross worldwide$29,332,133      Bob Gunton, Morgan Freeman, Tim Robbins  \n",
       "1    Gross worldwide$250,342,198         Al Pacino, Marlon Brando, James Caan  \n",
       "2  Gross worldwide$1,009,057,329  Aaron Eckhart, Christian Bale, Heath Ledger  \n",
       "3     Gross worldwide$47,964,222     Al Pacino, Robert De Niro, Robert Duvall  \n",
       "4          Gross worldwide$2,945      Henry Fonda, Martin Balsam, Lee J. Cobb  "
      ]
     },
     "execution_count": 166,
     "metadata": {},
     "output_type": "execute_result"
    }
   ],
   "source": [
    "df.head()"
   ]
  },
  {
   "cell_type": "markdown",
   "metadata": {},
   "source": [
    "2. Data Cleaning and Type Conversion"
   ]
  },
  {
   "cell_type": "code",
   "execution_count": 167,
   "metadata": {},
   "outputs": [
    {
     "data": {
      "text/plain": [
       "pandas.core.frame.DataFrame"
      ]
     },
     "execution_count": 167,
     "metadata": {},
     "output_type": "execute_result"
    }
   ],
   "source": [
    "type(df)"
   ]
  },
  {
   "cell_type": "code",
   "execution_count": 168,
   "metadata": {},
   "outputs": [
    {
     "data": {
      "text/plain": [
       "(250, 7)"
      ]
     },
     "execution_count": 168,
     "metadata": {},
     "output_type": "execute_result"
    }
   ],
   "source": [
    "df.shape"
   ]
  },
  {
   "cell_type": "code",
   "execution_count": 169,
   "metadata": {},
   "outputs": [
    {
     "data": {
      "text/html": [
       "<div>\n",
       "<style scoped>\n",
       "    .dataframe tbody tr th:only-of-type {\n",
       "        vertical-align: middle;\n",
       "    }\n",
       "\n",
       "    .dataframe tbody tr th {\n",
       "        vertical-align: top;\n",
       "    }\n",
       "\n",
       "    .dataframe thead th {\n",
       "        text-align: right;\n",
       "    }\n",
       "</style>\n",
       "<table border=\"1\" class=\"dataframe\">\n",
       "  <thead>\n",
       "    <tr style=\"text-align: right;\">\n",
       "      <th></th>\n",
       "      <th>Title</th>\n",
       "      <th>Year</th>\n",
       "      <th>Rating</th>\n",
       "      <th>Genre</th>\n",
       "      <th>Director(s)</th>\n",
       "      <th>Box Office Revenue</th>\n",
       "      <th>Lead Actors</th>\n",
       "    </tr>\n",
       "  </thead>\n",
       "  <tbody>\n",
       "    <tr>\n",
       "      <th>0</th>\n",
       "      <td>1. The Shawshank Redemption</td>\n",
       "      <td>1994</td>\n",
       "      <td>9.3 (3M)</td>\n",
       "      <td>Epic, Period Drama, Prison Drama, Drama</td>\n",
       "      <td>The Ink Spots, Jack Lawrence, Stephen King, Ti...</td>\n",
       "      <td>Gross worldwide$29,332,133</td>\n",
       "      <td>Bob Gunton, Morgan Freeman, Tim Robbins</td>\n",
       "    </tr>\n",
       "    <tr>\n",
       "      <th>1</th>\n",
       "      <td>2. The Godfather</td>\n",
       "      <td>1972</td>\n",
       "      <td>9.2 (2.1M)</td>\n",
       "      <td>Epic, Gangster, Tragedy, Crime, Drama</td>\n",
       "      <td>Mario Puzo, Marlon Brando, Peter Clemenza, Al ...</td>\n",
       "      <td>Gross worldwide$250,342,198</td>\n",
       "      <td>Al Pacino, Marlon Brando, James Caan</td>\n",
       "    </tr>\n",
       "    <tr>\n",
       "      <th>2</th>\n",
       "      <td>3. The Dark Knight</td>\n",
       "      <td>2008</td>\n",
       "      <td>9.0 (3M)</td>\n",
       "      <td>Action Epic, Epic, Superhero, Tragedy, Action,...</td>\n",
       "      <td>Aaron Eckhart, Michael Caine, The Joker, Jonat...</td>\n",
       "      <td>Gross worldwide$1,009,057,329</td>\n",
       "      <td>Aaron Eckhart, Christian Bale, Heath Ledger</td>\n",
       "    </tr>\n",
       "    <tr>\n",
       "      <th>3</th>\n",
       "      <td>4. The Godfather Part II</td>\n",
       "      <td>1974</td>\n",
       "      <td>9.0 (1.4M)</td>\n",
       "      <td>Epic, Gangster, Tragedy, Crime, Drama</td>\n",
       "      <td>Mario Puzo, Francesco Pennino, Al Pacino, Robe...</td>\n",
       "      <td>Gross worldwide$47,964,222</td>\n",
       "      <td>Al Pacino, Robert De Niro, Robert Duvall</td>\n",
       "    </tr>\n",
       "    <tr>\n",
       "      <th>4</th>\n",
       "      <td>5. 12 Angry Men</td>\n",
       "      <td>1957</td>\n",
       "      <td>9.0 (917K)</td>\n",
       "      <td>Legal Drama, Psychological Drama, Crime, Drama</td>\n",
       "      <td>Henry Fonda, Jack Warden, Lee J. Cobb, Juror #...</td>\n",
       "      <td>Gross worldwide$2,945</td>\n",
       "      <td>Henry Fonda, Martin Balsam, Lee J. Cobb</td>\n",
       "    </tr>\n",
       "    <tr>\n",
       "      <th>...</th>\n",
       "      <td>...</td>\n",
       "      <td>...</td>\n",
       "      <td>...</td>\n",
       "      <td>...</td>\n",
       "      <td>...</td>\n",
       "      <td>...</td>\n",
       "      <td>...</td>\n",
       "    </tr>\n",
       "    <tr>\n",
       "      <th>245</th>\n",
       "      <td>246. A Silent Voice: The Movie</td>\n",
       "      <td>2016</td>\n",
       "      <td>8.1 (117K)</td>\n",
       "      <td>Anime, Coming-of-Age, Psychological Drama, Shō...</td>\n",
       "      <td>Saori Hayami, Naoko Yamada, Lexi Marman, Shoko...</td>\n",
       "      <td>Gross worldwide$30,819,442</td>\n",
       "      <td>Miyu Irino, Saori Hayami, Aoi Yûki</td>\n",
       "    </tr>\n",
       "    <tr>\n",
       "      <th>246</th>\n",
       "      <td>247. The Help</td>\n",
       "      <td>2011</td>\n",
       "      <td>8.1 (510K)</td>\n",
       "      <td>Period Drama, Drama</td>\n",
       "      <td>Hilly Holbrook, Emma Stone, Jerry Leiber, Tate...</td>\n",
       "      <td>Gross worldwide$221,802,186</td>\n",
       "      <td>Emma Stone, Octavia Spencer, Viola Davis</td>\n",
       "    </tr>\n",
       "    <tr>\n",
       "      <th>247</th>\n",
       "      <td>248. Amores Perros</td>\n",
       "      <td>2000</td>\n",
       "      <td>8.0 (261K)</td>\n",
       "      <td>Tragedy, Drama, Thriller</td>\n",
       "      <td>Emilio Echevarría, Guillermo Arriaga, Alejandr...</td>\n",
       "      <td>Gross worldwide$20,908,467</td>\n",
       "      <td>Goya Toledo, Gael García Bernal, Emilio Echeva...</td>\n",
       "    </tr>\n",
       "    <tr>\n",
       "      <th>248</th>\n",
       "      <td>249. Rebecca</td>\n",
       "      <td>1940</td>\n",
       "      <td>8.1 (153K)</td>\n",
       "      <td>Dark Romance, Psychological Drama, Psychologic...</td>\n",
       "      <td>Laurence Olivier, Mrs. Danvers, The Second Mrs...</td>\n",
       "      <td>Gross worldwide$113,328</td>\n",
       "      <td>Laurence Olivier, George Sanders, Joan Fontaine</td>\n",
       "    </tr>\n",
       "    <tr>\n",
       "      <th>249</th>\n",
       "      <td>250. Gangs of Wasseypur</td>\n",
       "      <td>2012</td>\n",
       "      <td>8.2 (107K)</td>\n",
       "      <td>Gangster, Satire, True Crime, Action, Comedy, ...</td>\n",
       "      <td>Manoj Bajpayee, Tigmanshu Dhulia, Manoj Tiwari...</td>\n",
       "      <td>Gross worldwide$4,384,642</td>\n",
       "      <td>Manoj Bajpayee, Nawazuddin Siddiqui, Tigmanshu...</td>\n",
       "    </tr>\n",
       "  </tbody>\n",
       "</table>\n",
       "<p>250 rows × 7 columns</p>\n",
       "</div>"
      ],
      "text/plain": [
       "                              Title  Year      Rating  \\\n",
       "0       1. The Shawshank Redemption  1994    9.3 (3M)   \n",
       "1                  2. The Godfather  1972  9.2 (2.1M)   \n",
       "2                3. The Dark Knight  2008    9.0 (3M)   \n",
       "3          4. The Godfather Part II  1974  9.0 (1.4M)   \n",
       "4                   5. 12 Angry Men  1957  9.0 (917K)   \n",
       "..                              ...   ...         ...   \n",
       "245  246. A Silent Voice: The Movie  2016  8.1 (117K)   \n",
       "246                   247. The Help  2011  8.1 (510K)   \n",
       "247              248. Amores Perros  2000  8.0 (261K)   \n",
       "248                    249. Rebecca  1940  8.1 (153K)   \n",
       "249         250. Gangs of Wasseypur  2012  8.2 (107K)   \n",
       "\n",
       "                                                 Genre  \\\n",
       "0              Epic, Period Drama, Prison Drama, Drama   \n",
       "1                Epic, Gangster, Tragedy, Crime, Drama   \n",
       "2    Action Epic, Epic, Superhero, Tragedy, Action,...   \n",
       "3                Epic, Gangster, Tragedy, Crime, Drama   \n",
       "4       Legal Drama, Psychological Drama, Crime, Drama   \n",
       "..                                                 ...   \n",
       "245  Anime, Coming-of-Age, Psychological Drama, Shō...   \n",
       "246                                Period Drama, Drama   \n",
       "247                           Tragedy, Drama, Thriller   \n",
       "248  Dark Romance, Psychological Drama, Psychologic...   \n",
       "249  Gangster, Satire, True Crime, Action, Comedy, ...   \n",
       "\n",
       "                                           Director(s)  \\\n",
       "0    The Ink Spots, Jack Lawrence, Stephen King, Ti...   \n",
       "1    Mario Puzo, Marlon Brando, Peter Clemenza, Al ...   \n",
       "2    Aaron Eckhart, Michael Caine, The Joker, Jonat...   \n",
       "3    Mario Puzo, Francesco Pennino, Al Pacino, Robe...   \n",
       "4    Henry Fonda, Jack Warden, Lee J. Cobb, Juror #...   \n",
       "..                                                 ...   \n",
       "245  Saori Hayami, Naoko Yamada, Lexi Marman, Shoko...   \n",
       "246  Hilly Holbrook, Emma Stone, Jerry Leiber, Tate...   \n",
       "247  Emilio Echevarría, Guillermo Arriaga, Alejandr...   \n",
       "248  Laurence Olivier, Mrs. Danvers, The Second Mrs...   \n",
       "249  Manoj Bajpayee, Tigmanshu Dhulia, Manoj Tiwari...   \n",
       "\n",
       "                Box Office Revenue  \\\n",
       "0       Gross worldwide$29,332,133   \n",
       "1      Gross worldwide$250,342,198   \n",
       "2    Gross worldwide$1,009,057,329   \n",
       "3       Gross worldwide$47,964,222   \n",
       "4            Gross worldwide$2,945   \n",
       "..                             ...   \n",
       "245     Gross worldwide$30,819,442   \n",
       "246    Gross worldwide$221,802,186   \n",
       "247     Gross worldwide$20,908,467   \n",
       "248        Gross worldwide$113,328   \n",
       "249      Gross worldwide$4,384,642   \n",
       "\n",
       "                                           Lead Actors  \n",
       "0              Bob Gunton, Morgan Freeman, Tim Robbins  \n",
       "1                 Al Pacino, Marlon Brando, James Caan  \n",
       "2          Aaron Eckhart, Christian Bale, Heath Ledger  \n",
       "3             Al Pacino, Robert De Niro, Robert Duvall  \n",
       "4              Henry Fonda, Martin Balsam, Lee J. Cobb  \n",
       "..                                                 ...  \n",
       "245                 Miyu Irino, Saori Hayami, Aoi Yûki  \n",
       "246           Emma Stone, Octavia Spencer, Viola Davis  \n",
       "247  Goya Toledo, Gael García Bernal, Emilio Echeva...  \n",
       "248    Laurence Olivier, George Sanders, Joan Fontaine  \n",
       "249  Manoj Bajpayee, Nawazuddin Siddiqui, Tigmanshu...  \n",
       "\n",
       "[250 rows x 7 columns]"
      ]
     },
     "execution_count": 169,
     "metadata": {},
     "output_type": "execute_result"
    }
   ],
   "source": [
    "#Dropping Duplicates\n",
    "df= df.drop_duplicates()\n",
    "df"
   ]
  },
  {
   "cell_type": "code",
   "execution_count": 170,
   "metadata": {},
   "outputs": [
    {
     "data": {
      "text/plain": [
       "Title                 object\n",
       "Year                   int64\n",
       "Rating                object\n",
       "Genre                 object\n",
       "Director(s)           object\n",
       "Box Office Revenue    object\n",
       "Lead Actors           object\n",
       "dtype: object"
      ]
     },
     "execution_count": 170,
     "metadata": {},
     "output_type": "execute_result"
    }
   ],
   "source": [
    "df.dtypes"
   ]
  },
  {
   "cell_type": "code",
   "execution_count": 171,
   "metadata": {},
   "outputs": [
    {
     "data": {
      "text/html": [
       "<div>\n",
       "<style scoped>\n",
       "    .dataframe tbody tr th:only-of-type {\n",
       "        vertical-align: middle;\n",
       "    }\n",
       "\n",
       "    .dataframe tbody tr th {\n",
       "        vertical-align: top;\n",
       "    }\n",
       "\n",
       "    .dataframe thead th {\n",
       "        text-align: right;\n",
       "    }\n",
       "</style>\n",
       "<table border=\"1\" class=\"dataframe\">\n",
       "  <thead>\n",
       "    <tr style=\"text-align: right;\">\n",
       "      <th></th>\n",
       "      <th>Year</th>\n",
       "      <th>Rating</th>\n",
       "      <th>Genre</th>\n",
       "      <th>Director(s)</th>\n",
       "      <th>Box Office Revenue</th>\n",
       "      <th>Lead Actors</th>\n",
       "      <th>ID</th>\n",
       "      <th>Movie Title</th>\n",
       "    </tr>\n",
       "  </thead>\n",
       "  <tbody>\n",
       "    <tr>\n",
       "      <th>0</th>\n",
       "      <td>1994</td>\n",
       "      <td>9.3 (3M)</td>\n",
       "      <td>Epic, Period Drama, Prison Drama, Drama</td>\n",
       "      <td>The Ink Spots, Jack Lawrence, Stephen King, Ti...</td>\n",
       "      <td>Gross worldwide$29,332,133</td>\n",
       "      <td>Bob Gunton, Morgan Freeman, Tim Robbins</td>\n",
       "      <td>1</td>\n",
       "      <td>The Shawshank Redemption</td>\n",
       "    </tr>\n",
       "    <tr>\n",
       "      <th>1</th>\n",
       "      <td>1972</td>\n",
       "      <td>9.2 (2.1M)</td>\n",
       "      <td>Epic, Gangster, Tragedy, Crime, Drama</td>\n",
       "      <td>Mario Puzo, Marlon Brando, Peter Clemenza, Al ...</td>\n",
       "      <td>Gross worldwide$250,342,198</td>\n",
       "      <td>Al Pacino, Marlon Brando, James Caan</td>\n",
       "      <td>2</td>\n",
       "      <td>The Godfather</td>\n",
       "    </tr>\n",
       "    <tr>\n",
       "      <th>2</th>\n",
       "      <td>2008</td>\n",
       "      <td>9.0 (3M)</td>\n",
       "      <td>Action Epic, Epic, Superhero, Tragedy, Action,...</td>\n",
       "      <td>Aaron Eckhart, Michael Caine, The Joker, Jonat...</td>\n",
       "      <td>Gross worldwide$1,009,057,329</td>\n",
       "      <td>Aaron Eckhart, Christian Bale, Heath Ledger</td>\n",
       "      <td>3</td>\n",
       "      <td>The Dark Knight</td>\n",
       "    </tr>\n",
       "    <tr>\n",
       "      <th>3</th>\n",
       "      <td>1974</td>\n",
       "      <td>9.0 (1.4M)</td>\n",
       "      <td>Epic, Gangster, Tragedy, Crime, Drama</td>\n",
       "      <td>Mario Puzo, Francesco Pennino, Al Pacino, Robe...</td>\n",
       "      <td>Gross worldwide$47,964,222</td>\n",
       "      <td>Al Pacino, Robert De Niro, Robert Duvall</td>\n",
       "      <td>4</td>\n",
       "      <td>The Godfather Part II</td>\n",
       "    </tr>\n",
       "    <tr>\n",
       "      <th>4</th>\n",
       "      <td>1957</td>\n",
       "      <td>9.0 (917K)</td>\n",
       "      <td>Legal Drama, Psychological Drama, Crime, Drama</td>\n",
       "      <td>Henry Fonda, Jack Warden, Lee J. Cobb, Juror #...</td>\n",
       "      <td>Gross worldwide$2,945</td>\n",
       "      <td>Henry Fonda, Martin Balsam, Lee J. Cobb</td>\n",
       "      <td>5</td>\n",
       "      <td>12 Angry Men</td>\n",
       "    </tr>\n",
       "  </tbody>\n",
       "</table>\n",
       "</div>"
      ],
      "text/plain": [
       "   Year      Rating                                              Genre  \\\n",
       "0  1994    9.3 (3M)            Epic, Period Drama, Prison Drama, Drama   \n",
       "1  1972  9.2 (2.1M)              Epic, Gangster, Tragedy, Crime, Drama   \n",
       "2  2008    9.0 (3M)  Action Epic, Epic, Superhero, Tragedy, Action,...   \n",
       "3  1974  9.0 (1.4M)              Epic, Gangster, Tragedy, Crime, Drama   \n",
       "4  1957  9.0 (917K)     Legal Drama, Psychological Drama, Crime, Drama   \n",
       "\n",
       "                                         Director(s)  \\\n",
       "0  The Ink Spots, Jack Lawrence, Stephen King, Ti...   \n",
       "1  Mario Puzo, Marlon Brando, Peter Clemenza, Al ...   \n",
       "2  Aaron Eckhart, Michael Caine, The Joker, Jonat...   \n",
       "3  Mario Puzo, Francesco Pennino, Al Pacino, Robe...   \n",
       "4  Henry Fonda, Jack Warden, Lee J. Cobb, Juror #...   \n",
       "\n",
       "              Box Office Revenue                                  Lead Actors  \\\n",
       "0     Gross worldwide$29,332,133      Bob Gunton, Morgan Freeman, Tim Robbins   \n",
       "1    Gross worldwide$250,342,198         Al Pacino, Marlon Brando, James Caan   \n",
       "2  Gross worldwide$1,009,057,329  Aaron Eckhart, Christian Bale, Heath Ledger   \n",
       "3     Gross worldwide$47,964,222     Al Pacino, Robert De Niro, Robert Duvall   \n",
       "4          Gross worldwide$2,945      Henry Fonda, Martin Balsam, Lee J. Cobb   \n",
       "\n",
       "  ID               Movie Title  \n",
       "0  1  The Shawshank Redemption  \n",
       "1  2             The Godfather  \n",
       "2  3           The Dark Knight  \n",
       "3  4     The Godfather Part II  \n",
       "4  5              12 Angry Men  "
      ]
     },
     "execution_count": 171,
     "metadata": {},
     "output_type": "execute_result"
    }
   ],
   "source": [
    "# 1. Split \"Title\" into \"ID\" and \"Movie Title\n",
    "\n",
    "# Add new columns \"ID\" and \"Movie Title\" to DataFrame\n",
    "df[\"ID\"] = id_title[\"ID\"]\n",
    "df[\"Movie Title\"] = id_title[\"MovieTitle\"].fillna(df[\"Title\"]).str.strip()\n",
    "\n",
    "# Remove the old \"Title\" column\n",
    "df.drop(columns=[\"Title\"], inplace=True)\n",
    "df.head()"
   ]
  },
  {
   "cell_type": "code",
   "execution_count": 172,
   "metadata": {},
   "outputs": [
    {
     "name": "stdout",
     "output_type": "stream",
     "text": [
      "   Rating (raw)    Viewers\n",
      "0           9.3  3000000.0\n",
      "1           9.2  2100000.0\n",
      "2           9.0  3000000.0\n",
      "3           9.0  1400000.0\n",
      "4           9.0   917000.0\n"
     ]
    }
   ],
   "source": [
    "# 1. Split \"Rating\" into separate columns for rating and viewers\n",
    "extracted = df[\"Rating\"].str.extract(r\"^(.*?)\\s*\\((.*?)\\)$\")\n",
    "\n",
    "# If the rating string has parentheses, group(1) is the rating part, group(2) is the viewers part.\n",
    "df[\"Rating (raw)\"] = extracted[0].fillna(df[\"Rating\"])  # Fall back to original if no parentheses\n",
    "df[\"Viewers\"] = extracted[1]                            # This will be NaN if there's no match\n",
    "\n",
    "# Convert \"Rating (raw)\" to numeric, coercing invalid entries to NaN\n",
    "df[\"Rating (raw)\"] = pd.to_numeric(df[\"Rating (raw)\"], errors=\"coerce\")\n",
    "\n",
    "# Remove the old \"Rating\" column\n",
    "df.drop(columns=[\"Rating\"], inplace=True)\n",
    "\n",
    "# Parse the \"Viewers\" column (e.g., \"3.5M\" -> 3,500,000; \"500K\" -> 500,000)\n",
    "def parse_viewers(value):\n",
    "    if pd.isna(value):\n",
    "        return np.nan\n",
    "    val_str = str(value).strip().upper()  # e.g., \"3.5M\" -> \"3.5M\"\n",
    "    \n",
    "    # Match a pattern like \"3.5M\" or \"500K\"\n",
    "    match = re.match(r\"^(\\d+(\\.\\d+)?)([MK])$\", val_str)\n",
    "    if match:\n",
    "        number_part = float(match.group(1))  # \"3.5\" or \"500\"\n",
    "        suffix = match.group(3)             # \"M\" or \"K\"\n",
    "        \n",
    "        if suffix == \"M\":\n",
    "            return number_part * 1_000_000\n",
    "        elif suffix == \"K\":\n",
    "            return number_part * 1_000\n",
    "    \n",
    "    return np.nan  # If it doesn't match our pattern, treat as unknown\n",
    "\n",
    "df[\"Viewers\"] = df[\"Viewers\"].apply(parse_viewers)\n",
    "\n",
    "# Inspect the cleaned columns\n",
    "print(df[[\"Rating (raw)\", \"Viewers\"]].head())"
   ]
  },
  {
   "cell_type": "code",
   "execution_count": 173,
   "metadata": {},
   "outputs": [
    {
     "data": {
      "text/html": [
       "<div>\n",
       "<style scoped>\n",
       "    .dataframe tbody tr th:only-of-type {\n",
       "        vertical-align: middle;\n",
       "    }\n",
       "\n",
       "    .dataframe tbody tr th {\n",
       "        vertical-align: top;\n",
       "    }\n",
       "\n",
       "    .dataframe thead th {\n",
       "        text-align: right;\n",
       "    }\n",
       "</style>\n",
       "<table border=\"1\" class=\"dataframe\">\n",
       "  <thead>\n",
       "    <tr style=\"text-align: right;\">\n",
       "      <th></th>\n",
       "      <th>Year</th>\n",
       "      <th>Genre</th>\n",
       "      <th>Director(s)</th>\n",
       "      <th>Box Office Revenue</th>\n",
       "      <th>Lead Actors</th>\n",
       "      <th>ID</th>\n",
       "      <th>Movie Title</th>\n",
       "      <th>Rating (raw)</th>\n",
       "      <th>Viewers</th>\n",
       "    </tr>\n",
       "  </thead>\n",
       "  <tbody>\n",
       "    <tr>\n",
       "      <th>0</th>\n",
       "      <td>1994</td>\n",
       "      <td>Epic, Period Drama, Prison Drama, Drama</td>\n",
       "      <td>The Ink Spots, Jack Lawrence, Stephen King, Ti...</td>\n",
       "      <td>2.933213e+07</td>\n",
       "      <td>Bob Gunton, Morgan Freeman, Tim Robbins</td>\n",
       "      <td>1</td>\n",
       "      <td>The Shawshank Redemption</td>\n",
       "      <td>9.3</td>\n",
       "      <td>3000000.0</td>\n",
       "    </tr>\n",
       "    <tr>\n",
       "      <th>1</th>\n",
       "      <td>1972</td>\n",
       "      <td>Epic, Gangster, Tragedy, Crime, Drama</td>\n",
       "      <td>Mario Puzo, Marlon Brando, Peter Clemenza, Al ...</td>\n",
       "      <td>2.503422e+08</td>\n",
       "      <td>Al Pacino, Marlon Brando, James Caan</td>\n",
       "      <td>2</td>\n",
       "      <td>The Godfather</td>\n",
       "      <td>9.2</td>\n",
       "      <td>2100000.0</td>\n",
       "    </tr>\n",
       "    <tr>\n",
       "      <th>2</th>\n",
       "      <td>2008</td>\n",
       "      <td>Action Epic, Epic, Superhero, Tragedy, Action,...</td>\n",
       "      <td>Aaron Eckhart, Michael Caine, The Joker, Jonat...</td>\n",
       "      <td>1.009057e+09</td>\n",
       "      <td>Aaron Eckhart, Christian Bale, Heath Ledger</td>\n",
       "      <td>3</td>\n",
       "      <td>The Dark Knight</td>\n",
       "      <td>9.0</td>\n",
       "      <td>3000000.0</td>\n",
       "    </tr>\n",
       "    <tr>\n",
       "      <th>3</th>\n",
       "      <td>1974</td>\n",
       "      <td>Epic, Gangster, Tragedy, Crime, Drama</td>\n",
       "      <td>Mario Puzo, Francesco Pennino, Al Pacino, Robe...</td>\n",
       "      <td>4.796422e+07</td>\n",
       "      <td>Al Pacino, Robert De Niro, Robert Duvall</td>\n",
       "      <td>4</td>\n",
       "      <td>The Godfather Part II</td>\n",
       "      <td>9.0</td>\n",
       "      <td>1400000.0</td>\n",
       "    </tr>\n",
       "    <tr>\n",
       "      <th>4</th>\n",
       "      <td>1957</td>\n",
       "      <td>Legal Drama, Psychological Drama, Crime, Drama</td>\n",
       "      <td>Henry Fonda, Jack Warden, Lee J. Cobb, Juror #...</td>\n",
       "      <td>2.945000e+03</td>\n",
       "      <td>Henry Fonda, Martin Balsam, Lee J. Cobb</td>\n",
       "      <td>5</td>\n",
       "      <td>12 Angry Men</td>\n",
       "      <td>9.0</td>\n",
       "      <td>917000.0</td>\n",
       "    </tr>\n",
       "  </tbody>\n",
       "</table>\n",
       "</div>"
      ],
      "text/plain": [
       "   Year                                              Genre  \\\n",
       "0  1994            Epic, Period Drama, Prison Drama, Drama   \n",
       "1  1972              Epic, Gangster, Tragedy, Crime, Drama   \n",
       "2  2008  Action Epic, Epic, Superhero, Tragedy, Action,...   \n",
       "3  1974              Epic, Gangster, Tragedy, Crime, Drama   \n",
       "4  1957     Legal Drama, Psychological Drama, Crime, Drama   \n",
       "\n",
       "                                         Director(s)  Box Office Revenue  \\\n",
       "0  The Ink Spots, Jack Lawrence, Stephen King, Ti...        2.933213e+07   \n",
       "1  Mario Puzo, Marlon Brando, Peter Clemenza, Al ...        2.503422e+08   \n",
       "2  Aaron Eckhart, Michael Caine, The Joker, Jonat...        1.009057e+09   \n",
       "3  Mario Puzo, Francesco Pennino, Al Pacino, Robe...        4.796422e+07   \n",
       "4  Henry Fonda, Jack Warden, Lee J. Cobb, Juror #...        2.945000e+03   \n",
       "\n",
       "                                   Lead Actors ID               Movie Title  \\\n",
       "0      Bob Gunton, Morgan Freeman, Tim Robbins  1  The Shawshank Redemption   \n",
       "1         Al Pacino, Marlon Brando, James Caan  2             The Godfather   \n",
       "2  Aaron Eckhart, Christian Bale, Heath Ledger  3           The Dark Knight   \n",
       "3     Al Pacino, Robert De Niro, Robert Duvall  4     The Godfather Part II   \n",
       "4      Henry Fonda, Martin Balsam, Lee J. Cobb  5              12 Angry Men   \n",
       "\n",
       "   Rating (raw)    Viewers  \n",
       "0           9.3  3000000.0  \n",
       "1           9.2  2100000.0  \n",
       "2           9.0  3000000.0  \n",
       "3           9.0  1400000.0  \n",
       "4           9.0   917000.0  "
      ]
     },
     "execution_count": 173,
     "metadata": {},
     "output_type": "execute_result"
    }
   ],
   "source": [
    "# 3. Clean the \"Box Office Revenue\" column\n",
    "\n",
    "df[\"Box Office Revenue\"] = df[\"Box Office Revenue\"].str.replace(\"Gross worldwide\", \"\", regex=False)\n",
    "df[\"Box Office Revenue\"] = df[\"Box Office Revenue\"].str.replace(\"$\", \"\", regex=False)\n",
    "df[\"Box Office Revenue\"] = df[\"Box Office Revenue\"].str.replace(\",\", \"\", regex=False)\n",
    "df[\"Box Office Revenue\"] = pd.to_numeric(df[\"Box Office Revenue\"], errors=\"coerce\")\n",
    "df.head()"
   ]
  },
  {
   "cell_type": "code",
   "execution_count": 174,
   "metadata": {},
   "outputs": [
    {
     "data": {
      "text/html": [
       "<div>\n",
       "<style scoped>\n",
       "    .dataframe tbody tr th:only-of-type {\n",
       "        vertical-align: middle;\n",
       "    }\n",
       "\n",
       "    .dataframe tbody tr th {\n",
       "        vertical-align: top;\n",
       "    }\n",
       "\n",
       "    .dataframe thead th {\n",
       "        text-align: right;\n",
       "    }\n",
       "</style>\n",
       "<table border=\"1\" class=\"dataframe\">\n",
       "  <thead>\n",
       "    <tr style=\"text-align: right;\">\n",
       "      <th></th>\n",
       "      <th>Year</th>\n",
       "      <th>Genre</th>\n",
       "      <th>Director(s)</th>\n",
       "      <th>Box Office Revenue</th>\n",
       "      <th>Lead Actors</th>\n",
       "      <th>Movie Title</th>\n",
       "      <th>Rating (raw)</th>\n",
       "      <th>Viewers</th>\n",
       "    </tr>\n",
       "  </thead>\n",
       "  <tbody>\n",
       "    <tr>\n",
       "      <th>0</th>\n",
       "      <td>1994</td>\n",
       "      <td>Epic, Period Drama, Prison Drama, Drama</td>\n",
       "      <td>The Ink Spots, Jack Lawrence, Stephen King, Ti...</td>\n",
       "      <td>2.933213e+07</td>\n",
       "      <td>Bob Gunton, Morgan Freeman, Tim Robbins</td>\n",
       "      <td>The Shawshank Redemption</td>\n",
       "      <td>9.3</td>\n",
       "      <td>3000000.0</td>\n",
       "    </tr>\n",
       "    <tr>\n",
       "      <th>1</th>\n",
       "      <td>1972</td>\n",
       "      <td>Epic, Gangster, Tragedy, Crime, Drama</td>\n",
       "      <td>Mario Puzo, Marlon Brando, Peter Clemenza, Al ...</td>\n",
       "      <td>2.503422e+08</td>\n",
       "      <td>Al Pacino, Marlon Brando, James Caan</td>\n",
       "      <td>The Godfather</td>\n",
       "      <td>9.2</td>\n",
       "      <td>2100000.0</td>\n",
       "    </tr>\n",
       "    <tr>\n",
       "      <th>2</th>\n",
       "      <td>2008</td>\n",
       "      <td>Action Epic, Epic, Superhero, Tragedy, Action,...</td>\n",
       "      <td>Aaron Eckhart, Michael Caine, The Joker, Jonat...</td>\n",
       "      <td>1.009057e+09</td>\n",
       "      <td>Aaron Eckhart, Christian Bale, Heath Ledger</td>\n",
       "      <td>The Dark Knight</td>\n",
       "      <td>9.0</td>\n",
       "      <td>3000000.0</td>\n",
       "    </tr>\n",
       "    <tr>\n",
       "      <th>3</th>\n",
       "      <td>1974</td>\n",
       "      <td>Epic, Gangster, Tragedy, Crime, Drama</td>\n",
       "      <td>Mario Puzo, Francesco Pennino, Al Pacino, Robe...</td>\n",
       "      <td>4.796422e+07</td>\n",
       "      <td>Al Pacino, Robert De Niro, Robert Duvall</td>\n",
       "      <td>The Godfather Part II</td>\n",
       "      <td>9.0</td>\n",
       "      <td>1400000.0</td>\n",
       "    </tr>\n",
       "    <tr>\n",
       "      <th>4</th>\n",
       "      <td>1957</td>\n",
       "      <td>Legal Drama, Psychological Drama, Crime, Drama</td>\n",
       "      <td>Henry Fonda, Jack Warden, Lee J. Cobb, Juror #...</td>\n",
       "      <td>2.945000e+03</td>\n",
       "      <td>Henry Fonda, Martin Balsam, Lee J. Cobb</td>\n",
       "      <td>12 Angry Men</td>\n",
       "      <td>9.0</td>\n",
       "      <td>917000.0</td>\n",
       "    </tr>\n",
       "  </tbody>\n",
       "</table>\n",
       "</div>"
      ],
      "text/plain": [
       "   Year                                              Genre  \\\n",
       "0  1994            Epic, Period Drama, Prison Drama, Drama   \n",
       "1  1972              Epic, Gangster, Tragedy, Crime, Drama   \n",
       "2  2008  Action Epic, Epic, Superhero, Tragedy, Action,...   \n",
       "3  1974              Epic, Gangster, Tragedy, Crime, Drama   \n",
       "4  1957     Legal Drama, Psychological Drama, Crime, Drama   \n",
       "\n",
       "                                         Director(s)  Box Office Revenue  \\\n",
       "0  The Ink Spots, Jack Lawrence, Stephen King, Ti...        2.933213e+07   \n",
       "1  Mario Puzo, Marlon Brando, Peter Clemenza, Al ...        2.503422e+08   \n",
       "2  Aaron Eckhart, Michael Caine, The Joker, Jonat...        1.009057e+09   \n",
       "3  Mario Puzo, Francesco Pennino, Al Pacino, Robe...        4.796422e+07   \n",
       "4  Henry Fonda, Jack Warden, Lee J. Cobb, Juror #...        2.945000e+03   \n",
       "\n",
       "                                   Lead Actors               Movie Title  \\\n",
       "0      Bob Gunton, Morgan Freeman, Tim Robbins  The Shawshank Redemption   \n",
       "1         Al Pacino, Marlon Brando, James Caan             The Godfather   \n",
       "2  Aaron Eckhart, Christian Bale, Heath Ledger           The Dark Knight   \n",
       "3     Al Pacino, Robert De Niro, Robert Duvall     The Godfather Part II   \n",
       "4      Henry Fonda, Martin Balsam, Lee J. Cobb              12 Angry Men   \n",
       "\n",
       "   Rating (raw)    Viewers  \n",
       "0           9.3  3000000.0  \n",
       "1           9.2  2100000.0  \n",
       "2           9.0  3000000.0  \n",
       "3           9.0  1400000.0  \n",
       "4           9.0   917000.0  "
      ]
     },
     "execution_count": 174,
     "metadata": {},
     "output_type": "execute_result"
    }
   ],
   "source": [
    "# Remove the \"ID\" column\n",
    "df.drop(columns=[\"ID\"], inplace=True)\n",
    "df.head()"
   ]
  },
  {
   "cell_type": "code",
   "execution_count": 175,
   "metadata": {},
   "outputs": [
    {
     "data": {
      "text/plain": [
       "Year                    int64\n",
       "Genre                  object\n",
       "Director(s)            object\n",
       "Box Office Revenue    float64\n",
       "Lead Actors            object\n",
       "Movie Title            object\n",
       "Rating (raw)          float64\n",
       "Viewers               float64\n",
       "dtype: object"
      ]
     },
     "execution_count": 175,
     "metadata": {},
     "output_type": "execute_result"
    }
   ],
   "source": [
    "df.dtypes"
   ]
  },
  {
   "cell_type": "code",
   "execution_count": 176,
   "metadata": {},
   "outputs": [
    {
     "data": {
      "text/plain": [
       "Year                  0\n",
       "Genre                 0\n",
       "Director(s)           0\n",
       "Box Office Revenue    3\n",
       "Lead Actors           0\n",
       "Movie Title           0\n",
       "Rating (raw)          0\n",
       "Viewers               0\n",
       "dtype: int64"
      ]
     },
     "execution_count": 176,
     "metadata": {},
     "output_type": "execute_result"
    }
   ],
   "source": [
    "#Null Value check\n",
    "\n",
    "df.isna().sum()"
   ]
  },
  {
   "cell_type": "code",
   "execution_count": 177,
   "metadata": {},
   "outputs": [],
   "source": [
    "# Remove rows with missing values in \"Box Office Revenue\"\n",
    "df.dropna(subset=[\"Box Office Revenue\"], inplace=True)"
   ]
  },
  {
   "cell_type": "code",
   "execution_count": 178,
   "metadata": {},
   "outputs": [],
   "source": [
    "# As per the assignment request, last 2 decades data has been considered. \n",
    "df = df[(df[\"Year\"] >= 2004) & (df[\"Year\"] <= 2024)]"
   ]
  },
  {
   "cell_type": "code",
   "execution_count": 179,
   "metadata": {},
   "outputs": [],
   "source": [
    "# 4.Save the cleaned dataset\n",
    "\n",
    "df.to_csv(\"imdb_top_movies_cleaned.csv\", index=False)"
   ]
  },
  {
   "cell_type": "code",
   "execution_count": 187,
   "metadata": {},
   "outputs": [
    {
     "data": {
      "text/html": [
       "<div>\n",
       "<style scoped>\n",
       "    .dataframe tbody tr th:only-of-type {\n",
       "        vertical-align: middle;\n",
       "    }\n",
       "\n",
       "    .dataframe tbody tr th {\n",
       "        vertical-align: top;\n",
       "    }\n",
       "\n",
       "    .dataframe thead th {\n",
       "        text-align: right;\n",
       "    }\n",
       "</style>\n",
       "<table border=\"1\" class=\"dataframe\">\n",
       "  <thead>\n",
       "    <tr style=\"text-align: right;\">\n",
       "      <th></th>\n",
       "      <th>Year</th>\n",
       "      <th>Genre</th>\n",
       "      <th>Director(s)</th>\n",
       "      <th>Box Office Revenue</th>\n",
       "      <th>Lead Actors</th>\n",
       "      <th>Movie Title</th>\n",
       "      <th>Rating (raw)</th>\n",
       "      <th>Viewers</th>\n",
       "    </tr>\n",
       "  </thead>\n",
       "  <tbody>\n",
       "    <tr>\n",
       "      <th>2</th>\n",
       "      <td>2008</td>\n",
       "      <td>Action Epic, Epic, Superhero, Tragedy, Action,...</td>\n",
       "      <td>Aaron Eckhart, Michael Caine, The Joker, Jonat...</td>\n",
       "      <td>1.009057e+09</td>\n",
       "      <td>Aaron Eckhart, Christian Bale, Heath Ledger</td>\n",
       "      <td>The Dark Knight</td>\n",
       "      <td>9.0</td>\n",
       "      <td>3000000.0</td>\n",
       "    </tr>\n",
       "    <tr>\n",
       "      <th>13</th>\n",
       "      <td>2010</td>\n",
       "      <td>Action Epic, Adventure Epic, Epic, Psychologic...</td>\n",
       "      <td>Cobb, Joseph Gordon-Levitt, Leonardo DiCaprio,...</td>\n",
       "      <td>8.390306e+08</td>\n",
       "      <td>Joseph Gordon-Levitt, Leonardo DiCaprio, Ellio...</td>\n",
       "      <td>Inception</td>\n",
       "      <td>8.8</td>\n",
       "      <td>2700000.0</td>\n",
       "    </tr>\n",
       "    <tr>\n",
       "      <th>18</th>\n",
       "      <td>2014</td>\n",
       "      <td>Adventure Epic, Epic, Quest, Sci-Fi Epic, Spac...</td>\n",
       "      <td>Jonathan Nolan, Cooper, Matthew McConaughey, K...</td>\n",
       "      <td>7.584647e+08</td>\n",
       "      <td>Anne Hathaway, Jessica Chastain, Matthew McCon...</td>\n",
       "      <td>Interstellar</td>\n",
       "      <td>8.7</td>\n",
       "      <td>2300000.0</td>\n",
       "    </tr>\n",
       "    <tr>\n",
       "      <th>33</th>\n",
       "      <td>2019</td>\n",
       "      <td>Dark Comedy, Korean Drama, Psychological Thril...</td>\n",
       "      <td>Song Kang-ho, Bong Joon Ho, Han Jin-won, Cho Y...</td>\n",
       "      <td>2.626081e+08</td>\n",
       "      <td>Song Kang-ho, Cho Yeo-jeong, Lee Sun-kyun</td>\n",
       "      <td>Parasite</td>\n",
       "      <td>8.5</td>\n",
       "      <td>1000000.0</td>\n",
       "    </tr>\n",
       "    <tr>\n",
       "      <th>37</th>\n",
       "      <td>2006</td>\n",
       "      <td>Cop Drama, Epic, Gangster, Crime, Drama, Thriller</td>\n",
       "      <td>Felix Chong, Matt Damon, Dignam, William Monah...</td>\n",
       "      <td>2.914814e+08</td>\n",
       "      <td>Matt Damon, Leonardo DiCaprio, Jack Nicholson</td>\n",
       "      <td>The Departed</td>\n",
       "      <td>8.5</td>\n",
       "      <td>1500000.0</td>\n",
       "    </tr>\n",
       "  </tbody>\n",
       "</table>\n",
       "</div>"
      ],
      "text/plain": [
       "    Year                                              Genre  \\\n",
       "2   2008  Action Epic, Epic, Superhero, Tragedy, Action,...   \n",
       "13  2010  Action Epic, Adventure Epic, Epic, Psychologic...   \n",
       "18  2014  Adventure Epic, Epic, Quest, Sci-Fi Epic, Spac...   \n",
       "33  2019  Dark Comedy, Korean Drama, Psychological Thril...   \n",
       "37  2006  Cop Drama, Epic, Gangster, Crime, Drama, Thriller   \n",
       "\n",
       "                                          Director(s)  Box Office Revenue  \\\n",
       "2   Aaron Eckhart, Michael Caine, The Joker, Jonat...        1.009057e+09   \n",
       "13  Cobb, Joseph Gordon-Levitt, Leonardo DiCaprio,...        8.390306e+08   \n",
       "18  Jonathan Nolan, Cooper, Matthew McConaughey, K...        7.584647e+08   \n",
       "33  Song Kang-ho, Bong Joon Ho, Han Jin-won, Cho Y...        2.626081e+08   \n",
       "37  Felix Chong, Matt Damon, Dignam, William Monah...        2.914814e+08   \n",
       "\n",
       "                                          Lead Actors      Movie Title  \\\n",
       "2         Aaron Eckhart, Christian Bale, Heath Ledger  The Dark Knight   \n",
       "13  Joseph Gordon-Levitt, Leonardo DiCaprio, Ellio...        Inception   \n",
       "18  Anne Hathaway, Jessica Chastain, Matthew McCon...     Interstellar   \n",
       "33          Song Kang-ho, Cho Yeo-jeong, Lee Sun-kyun         Parasite   \n",
       "37      Matt Damon, Leonardo DiCaprio, Jack Nicholson     The Departed   \n",
       "\n",
       "    Rating (raw)    Viewers  \n",
       "2            9.0  3000000.0  \n",
       "13           8.8  2700000.0  \n",
       "18           8.7  2300000.0  \n",
       "33           8.5  1000000.0  \n",
       "37           8.5  1500000.0  "
      ]
     },
     "execution_count": 187,
     "metadata": {},
     "output_type": "execute_result"
    }
   ],
   "source": [
    "df.head()"
   ]
  },
  {
   "cell_type": "markdown",
   "metadata": {},
   "source": [
    "3- Perform Statistical Analysis"
   ]
  },
  {
   "cell_type": "code",
   "execution_count": 180,
   "metadata": {},
   "outputs": [
    {
     "name": "stdout",
     "output_type": "stream",
     "text": [
      "\n",
      "=== Descriptive Statistics ===\n"
     ]
    },
    {
     "data": {
      "text/html": [
       "<div>\n",
       "<style scoped>\n",
       "    .dataframe tbody tr th:only-of-type {\n",
       "        vertical-align: middle;\n",
       "    }\n",
       "\n",
       "    .dataframe tbody tr th {\n",
       "        vertical-align: top;\n",
       "    }\n",
       "\n",
       "    .dataframe thead th {\n",
       "        text-align: right;\n",
       "    }\n",
       "</style>\n",
       "<table border=\"1\" class=\"dataframe\">\n",
       "  <thead>\n",
       "    <tr style=\"text-align: right;\">\n",
       "      <th></th>\n",
       "      <th>Year</th>\n",
       "      <th>Box Office Revenue</th>\n",
       "      <th>Rating (raw)</th>\n",
       "      <th>Viewers</th>\n",
       "    </tr>\n",
       "  </thead>\n",
       "  <tbody>\n",
       "    <tr>\n",
       "      <th>count</th>\n",
       "      <td>83.000000</td>\n",
       "      <td>8.300000e+01</td>\n",
       "      <td>83.000000</td>\n",
       "      <td>8.300000e+01</td>\n",
       "    </tr>\n",
       "    <tr>\n",
       "      <th>mean</th>\n",
       "      <td>2012.795181</td>\n",
       "      <td>3.933943e+08</td>\n",
       "      <td>8.269880</td>\n",
       "      <td>7.958916e+05</td>\n",
       "    </tr>\n",
       "    <tr>\n",
       "      <th>std</th>\n",
       "      <td>5.851327</td>\n",
       "      <td>5.079335e+08</td>\n",
       "      <td>0.189823</td>\n",
       "      <td>5.936496e+05</td>\n",
       "    </tr>\n",
       "    <tr>\n",
       "      <th>min</th>\n",
       "      <td>2004.000000</td>\n",
       "      <td>6.735800e+04</td>\n",
       "      <td>8.000000</td>\n",
       "      <td>3.100000e+04</td>\n",
       "    </tr>\n",
       "    <tr>\n",
       "      <th>25%</th>\n",
       "      <td>2008.000000</td>\n",
       "      <td>4.855526e+07</td>\n",
       "      <td>8.100000</td>\n",
       "      <td>3.665000e+05</td>\n",
       "    </tr>\n",
       "    <tr>\n",
       "      <th>50%</th>\n",
       "      <td>2012.000000</td>\n",
       "      <td>2.218022e+08</td>\n",
       "      <td>8.200000</td>\n",
       "      <td>7.210000e+05</td>\n",
       "    </tr>\n",
       "    <tr>\n",
       "      <th>75%</th>\n",
       "      <td>2017.000000</td>\n",
       "      <td>5.111418e+08</td>\n",
       "      <td>8.400000</td>\n",
       "      <td>1.100000e+06</td>\n",
       "    </tr>\n",
       "    <tr>\n",
       "      <th>max</th>\n",
       "      <td>2024.000000</td>\n",
       "      <td>2.799439e+09</td>\n",
       "      <td>9.000000</td>\n",
       "      <td>3.000000e+06</td>\n",
       "    </tr>\n",
       "  </tbody>\n",
       "</table>\n",
       "</div>"
      ],
      "text/plain": [
       "              Year  Box Office Revenue  Rating (raw)       Viewers\n",
       "count    83.000000        8.300000e+01     83.000000  8.300000e+01\n",
       "mean   2012.795181        3.933943e+08      8.269880  7.958916e+05\n",
       "std       5.851327        5.079335e+08      0.189823  5.936496e+05\n",
       "min    2004.000000        6.735800e+04      8.000000  3.100000e+04\n",
       "25%    2008.000000        4.855526e+07      8.100000  3.665000e+05\n",
       "50%    2012.000000        2.218022e+08      8.200000  7.210000e+05\n",
       "75%    2017.000000        5.111418e+08      8.400000  1.100000e+06\n",
       "max    2024.000000        2.799439e+09      9.000000  3.000000e+06"
      ]
     },
     "execution_count": 180,
     "metadata": {},
     "output_type": "execute_result"
    }
   ],
   "source": [
    "print(\"\\n=== Descriptive Statistics ===\")\n",
    "df.describe()"
   ]
  },
  {
   "cell_type": "code",
   "execution_count": 189,
   "metadata": {},
   "outputs": [
    {
     "data": {
      "text/plain": [
       "' \\nINSIGHT: \\n    - Revenue Skewed: The large spread in revenue (from thousands to billions) highlights that a few blockbuster films dominate box office earnings.\\n    - Highly Rated Movies: All movies have ratings above 8.0, making them critically acclaimed and audience favorites.\\n    - Diverse Audience Engagement: The number of user ratings varies widely, suggesting that while some films have cult followings, others are more widely viewed. \\n'"
      ]
     },
     "execution_count": 189,
     "metadata": {},
     "output_type": "execute_result"
    }
   ],
   "source": [
    "\"\"\" \n",
    "INSIGHT: \n",
    "    - Revenue Skewed: The large spread in revenue (from thousands to billions) highlights that a few blockbuster films dominate box office earnings.\n",
    "    - Highly Rated Movies: All movies have ratings above 8.0, making them critically acclaimed and audience favorites.\n",
    "    - Diverse Audience Engagement: The number of user ratings varies widely, suggesting that while some films have cult followings, others are more widely viewed. \n",
    "\"\"\""
   ]
  },
  {
   "cell_type": "code",
   "execution_count": 181,
   "metadata": {},
   "outputs": [
    {
     "name": "stdout",
     "output_type": "stream",
     "text": [
      "\n",
      "=== Outliers in Box Office Revenue ===\n",
      "                                      Movie Title  Year  Box Office Revenue\n",
      "60                         Avengers: Infinity War  2018        2.052415e+09\n",
      "74                              Avengers: Endgame  2019        2.799439e+09\n",
      "144                             Top Gun: Maverick  2022        1.495696e+09\n",
      "177  Harry Potter and the Deathly Hallows: Part 2  2011        1.342500e+09\n",
      "181                       Spider-Man: No Way Home  2021        1.952732e+09\n"
     ]
    }
   ],
   "source": [
    "# Identify outliers using the IQR method for Box Office Revenue\n",
    "q1_rev = df[\"Box Office Revenue\"].quantile(0.25)\n",
    "q3_rev = df[\"Box Office Revenue\"].quantile(0.75)\n",
    "iqr_rev = q3_rev - q1_rev\n",
    "lower_bound_rev = q1_rev - 1.5 * iqr_rev\n",
    "upper_bound_rev = q3_rev + 1.5 * iqr_rev\n",
    "\n",
    "outliers_rev = df[(df[\"Box Office Revenue\"] < lower_bound_rev) | (df[\"Box Office Revenue\"] > upper_bound_rev)]\n",
    "print(\"\\n=== Outliers in Box Office Revenue ===\")\n",
    "print(outliers_rev[[\"Movie Title\", \"Year\", \"Box Office Revenue\"]])"
   ]
  },
  {
   "cell_type": "code",
   "execution_count": 190,
   "metadata": {},
   "outputs": [
    {
     "data": {
      "text/plain": [
       "'\\nInsights from Box Office Revenue Outliers\\n    - The movies listed here are considered outliers in box office revenue, meaning their earnings are significantly higher than most other films in the dataset. \\n    - This provides key insights into industry trends and audience preferences.\\n    - All movies in the outliers list grossed over $1.3 billion, far exceeding the typical box office earnings of most top-rated movies.\\n    - The earliest movie in this list is from 2011, and four out of five are from 2018 or later.\\n    - This highlights the rise of global box office records in the streaming era, where studios rely on big-budget movies to drive ticket sales.\\n    - All five movies belong to major film franchises (Marvel, Harry Potter, Top Gun).\\n    - This suggests that sequels, adaptations, and franchise films dominate the highest revenue tiers.\\n'"
      ]
     },
     "execution_count": 190,
     "metadata": {},
     "output_type": "execute_result"
    }
   ],
   "source": [
    "\"\"\"\n",
    "Insights from Box Office Revenue Outliers\n",
    "    - The movies listed here are considered outliers in box office revenue, meaning their earnings are significantly higher than most other films in the dataset. \n",
    "    - This provides key insights into industry trends and audience preferences.\n",
    "    - All movies in the outliers list grossed over $1.3 billion, far exceeding the typical box office earnings of most top-rated movies.\n",
    "    - The earliest movie in this list is from 2011, and four out of five are from 2018 or later.\n",
    "    - This highlights the rise of global box office records in the streaming era, where studios rely on big-budget movies to drive ticket sales.\n",
    "    - All five movies belong to major film franchises (Marvel, Harry Potter, Top Gun).\n",
    "    - This suggests that sequels, adaptations, and franchise films dominate the highest revenue tiers.\n",
    "\"\"\""
   ]
  },
  {
   "cell_type": "code",
   "execution_count": 182,
   "metadata": {},
   "outputs": [
    {
     "name": "stdout",
     "output_type": "stream",
     "text": [
      "\n",
      "=== Outliers in Ratings ===\n",
      "       Movie Title  Year  Rating (raw)\n",
      "2  The Dark Knight  2008           9.0\n"
     ]
    }
   ],
   "source": [
    "# Identify outliers using the IQR method for Ratings\n",
    "q1_rate = df[\"Rating (raw)\"].quantile(0.25)\n",
    "q3_rate = df[\"Rating (raw)\"].quantile(0.75)\n",
    "iqr_rate = q3_rate - q1_rate\n",
    "lower_bound_rate = q1_rate - 1.5 * iqr_rate\n",
    "upper_bound_rate = q3_rate + 1.5 * iqr_rate\n",
    "\n",
    "outliers_rate = df[(df[\"Rating (raw)\"] < lower_bound_rate) | (df[\"Rating (raw)\"] > upper_bound_rate)]\n",
    "print(\"\\n=== Outliers in Ratings ===\")\n",
    "print(outliers_rate[[\"Movie Title\", \"Year\", \"Rating (raw)\"]])"
   ]
  },
  {
   "cell_type": "code",
   "execution_count": 191,
   "metadata": {},
   "outputs": [
    {
     "data": {
      "text/plain": [
       "'\\nINSIGHTS:\\n    - The Dark Knight (2008) has an IMDb rating of 9.0, making it an outlier among the top-rated movies in the dataset.\\n    - Given that the median rating in the dataset is 8.2, this film significantly surpasses typical high-rated movies.\\n    - This suggests that even among the top movies, The Dark Knight stands above the rest in terms of audience reception.\\n'"
      ]
     },
     "execution_count": 191,
     "metadata": {},
     "output_type": "execute_result"
    }
   ],
   "source": [
    "\"\"\"\n",
    "INSIGHTS:\n",
    "    - The Dark Knight (2008) has an IMDb rating of 9.0, making it an outlier among the top-rated movies in the dataset.\n",
    "    - Given that the median rating in the dataset is 8.2, this film significantly surpasses typical high-rated movies.\n",
    "    - This suggests that even among the top movies, The Dark Knight stands above the rest in terms of audience reception.\n",
    "\"\"\""
   ]
  },
  {
   "cell_type": "code",
   "execution_count": 183,
   "metadata": {},
   "outputs": [
    {
     "data": {
      "image/png": "[encoded data removed]",
      "text/plain": [
       "<Figure size 1200x600 with 2 Axes>"
      ]
     },
     "metadata": {},
     "output_type": "display_data"
    }
   ],
   "source": [
    "# Plot Boxplots for Box Office Revenue and Ratings\n",
    "plt.figure(figsize=(12, 6))\n",
    "\n",
    "plt.subplot(1, 2, 1)\n",
    "plt.boxplot(df[\"Box Office Revenue\"].dropna(), vert=True, patch_artist=True)\n",
    "plt.title(\"Box Office Revenue\")\n",
    "plt.ylabel(\"Revenue (USD)\")\n",
    "\n",
    "plt.subplot(1, 2, 2)\n",
    "plt.boxplot(df[\"Rating (raw)\"].dropna(), vert=True, patch_artist=True)\n",
    "plt.title(\"Ratings\")\n",
    "plt.ylabel(\"IMDb Rating\")\n",
    "\n",
    "plt.tight_layout()\n",
    "plt.show()"
   ]
  },
  {
   "cell_type": "markdown",
   "metadata": {},
   "source": [
    "4- Data visualization"
   ]
  },
  {
   "cell_type": "code",
   "execution_count": 184,
   "metadata": {},
   "outputs": [
    {
     "data": {
      "image/png": "[encoded data removed]",
      "text/plain": [
       "<Figure size 800x500 with 1 Axes>"
      ]
     },
     "metadata": {},
     "output_type": "display_data"
    }
   ],
   "source": [
    "sns.set(style=\"whitegrid\")\n",
    "\n",
    "# Histogram for Movie Ratings\n",
    "plt.figure(figsize=(8, 5))\n",
    "sns.histplot(df[\"Rating (raw)\"], bins=20, kde=True)\n",
    "plt.title(\"Distribution of Movie Ratings\")\n",
    "plt.xlabel(\"IMDb Rating\")\n",
    "plt.ylabel(\"Count\")\n",
    "plt.show()"
   ]
  },
  {
   "cell_type": "code",
   "execution_count": 192,
   "metadata": {},
   "outputs": [
    {
     "data": {
      "text/plain": [
       "\"\\nInsights from the Distribution of Movie Ratings:\\n    The histogram shows a right-skewed distribution, meaning most movies have ratings between 8.0 and 8.4.\\n    The highest frequency is around 8.1 - 8.2, suggesting that this is the most common rating range for top movies in the dataset.\\n    Very few movies have ratings above 8.6, indicating that it's difficult for a movie to achieve an IMDb rating in the upper 8s and 9.0+.\\n    Since all movies in the dataset are highly rated (minimum 8.0), the distribution lacks lower ratings, making it a biased sample of only the best films.\\n\""
      ]
     },
     "execution_count": 192,
     "metadata": {},
     "output_type": "execute_result"
    }
   ],
   "source": [
    "\"\"\"\n",
    "Insights from the Distribution of Movie Ratings:\n",
    "    The histogram shows a right-skewed distribution, meaning most movies have ratings between 8.0 and 8.4.\n",
    "    The highest frequency is around 8.1 - 8.2, suggesting that this is the most common rating range for top movies in the dataset.\n",
    "    Very few movies have ratings above 8.6, indicating that it's difficult for a movie to achieve an IMDb rating in the upper 8s and 9.0+.\n",
    "    Since all movies in the dataset are highly rated (minimum 8.0), the distribution lacks lower ratings, making it a biased sample of only the best films.\n",
    "\"\"\""
   ]
  },
  {
   "cell_type": "code",
   "execution_count": 185,
   "metadata": {},
   "outputs": [
    {
     "data": {
      "image/png": "[encoded data removed]",
      "text/plain": [
       "<Figure size 800x500 with 1 Axes>"
      ]
     },
     "metadata": {},
     "output_type": "display_data"
    }
   ],
   "source": [
    "# Scatter plot for Revenue vs. Rating\n",
    "plt.figure(figsize=(8, 5))\n",
    "sns.scatterplot(x=df[\"Rating (raw)\"], y=df[\"Box Office Revenue\"], alpha=0.5)\n",
    "plt.title(\"Box Office Revenue vs. Rating\")\n",
    "plt.xlabel(\"IMDb Rating\")\n",
    "plt.ylabel(\"Box Office Revenue (USD)\")\n",
    "plt.show()"
   ]
  },
  {
   "cell_type": "code",
   "execution_count": 193,
   "metadata": {},
   "outputs": [
    {
     "data": {
      "text/plain": [
       "'\\nINSIGHTS:\\n    - The scatter plot does not show a clear upward or downward trend, suggesting that higher IMDb ratings do not necessarily lead to higher box office revenue.\\n    - Movies with similar ratings (8.0 - 8.5) have widely varying revenues, from modest earnings to over $2 billion.\\n    - Some of the highest-grossing movies (above $1.5 billion) have ratings between 8.2 - 8.5, rather than being the absolute highest-rated films.\\n    - The Dark Knight (9.0) appears on the chart with strong revenue, but it is not the highest-grossing movie.\\n    - Many movies rated 8.6+ do not reach extreme box office earnings, reinforcing that critical acclaim does not always translate to commercial success.\\n    - A significant concentration of movies falls under $500 million, regardless of rating.\\n    -This suggests that most top-rated movies are not billion-dollar blockbusters, and high revenue is an exception rather than the norm.\\n\\n'"
      ]
     },
     "execution_count": 193,
     "metadata": {},
     "output_type": "execute_result"
    }
   ],
   "source": [
    "\"\"\"\n",
    "INSIGHTS:\n",
    "    - The scatter plot does not show a clear upward or downward trend, suggesting that higher IMDb ratings do not necessarily lead to higher box office revenue.\n",
    "    - Movies with similar ratings (8.0 - 8.5) have widely varying revenues, from modest earnings to over $2 billion.\n",
    "    - Some of the highest-grossing movies (above $1.5 billion) have ratings between 8.2 - 8.5, rather than being the absolute highest-rated films.\n",
    "    - The Dark Knight (9.0) appears on the chart with strong revenue, but it is not the highest-grossing movie.\n",
    "    - Many movies rated 8.6+ do not reach extreme box office earnings, reinforcing that critical acclaim does not always translate to commercial success.\n",
    "    - A significant concentration of movies falls under $500 million, regardless of rating.\n",
    "    -This suggests that most top-rated movies are not billion-dollar blockbusters, and high revenue is an exception rather than the norm.\n",
    "\n",
    "\"\"\""
   ]
  },
  {
   "cell_type": "code",
   "execution_count": 186,
   "metadata": {},
   "outputs": [
    {
     "data": {
      "image/png": "[encoded data removed]",
      "text/plain": [
       "<Figure size 1200x500 with 1 Axes>"
      ]
     },
     "metadata": {},
     "output_type": "display_data"
    }
   ],
   "source": [
    "# Boxplot for Revenue by Year\n",
    "plt.figure(figsize=(12, 5))\n",
    "sns.boxplot(x=df[\"Year\"], y=df[\"Box Office Revenue\"])\n",
    "plt.xticks(rotation=90)\n",
    "plt.title(\"Box Office Revenue Over the Years\")\n",
    "plt.xlabel(\"Year\")\n",
    "plt.ylabel(\"Revenue (USD)\")\n",
    "plt.show()"
   ]
  },
  {
   "cell_type": "code",
   "execution_count": 194,
   "metadata": {},
   "outputs": [
    {
     "data": {
      "image/png": "[encoded data removed]",
      "text/plain": [
       "<Figure size 1200x600 with 1 Axes>"
      ]
     },
     "metadata": {},
     "output_type": "display_data"
    }
   ],
   "source": [
    "# Group data by year and calculate mean and median revenue\n",
    "yearly_revenue = df.groupby(\"Year\")[\"Box Office Revenue\"].agg([\"median\", \"mean\"])\n",
    "\n",
    "# Plot the line chart\n",
    "plt.figure(figsize=(12, 6))\n",
    "sns.lineplot(data=yearly_revenue, x=yearly_revenue.index, y=\"median\", marker=\"o\", label=\"Median Revenue\", linewidth=2)\n",
    "sns.lineplot(data=yearly_revenue, x=yearly_revenue.index, y=\"mean\", marker=\"s\", label=\"Mean Revenue\", linewidth=2, linestyle=\"dashed\")\n",
    "\n",
    "# Chart title and labels\n",
    "plt.title(\"Yearly Trend of Box Office Revenue (2004-2024)\", fontsize=14)\n",
    "plt.xlabel(\"Year\", fontsize=12)\n",
    "plt.ylabel(\"Box Office Revenue (USD)\", fontsize=12)\n",
    "plt.xticks(rotation=45)\n",
    "plt.legend()\n",
    "plt.grid(True)\n",
    "\n",
    "plt.show()"
   ]
  },
  {
   "cell_type": "code",
   "execution_count": 195,
   "metadata": {},
   "outputs": [
    {
     "data": {
      "text/plain": [
       "'\\nINSIGHTS:\\n\\n    - The median revenue has generally increased from 2004 to 2024, indicating that movies are making more money at the box office in recent years.\\n    - From 2010 onward, multiple years show outliers crossing the $1 billion+ range, especially in 2018, 2019, and 2021.\\n    - COVID-19 Impact in 2020:\\n        -2020 has a near-flat box plot, showing that almost all movies in that year had significantly lower earnings.\\n        - The COVID-19 pandemic led to widespread theater closures, reduced audience turnout, and streaming releases, resulting in a historically low box office year.\\n        - However, 2021 saw a sharp rebound, with major hits like Spider-Man: No Way Home surpassing $1.9 billion.\\n    - Some movies are breaking records, while others still struggle, suggesting a greater gap between blockbuster hits and lower-performing films.\\n    - Box office revenue appears moderately strong, but not as high as pre-pandemic years (2018-2019), suggesting that while theaters have recovered, \\n    the growth of streaming platforms and changes in audience behavior may be influencing box office performance.\\n\\n'"
      ]
     },
     "execution_count": 195,
     "metadata": {},
     "output_type": "execute_result"
    }
   ],
   "source": [
    "\"\"\"\n",
    "INSIGHTS:\n",
    "\n",
    "    - The median revenue has generally increased from 2004 to 2024, indicating that movies are making more money at the box office in recent years.\n",
    "    - From 2010 onward, multiple years show outliers crossing the $1 billion+ range, especially in 2018, 2019, and 2021.\n",
    "    - COVID-19 Impact in 2020:\n",
    "        -2020 has a near-flat box plot, showing that almost all movies in that year had significantly lower earnings.\n",
    "        - The COVID-19 pandemic led to widespread theater closures, reduced audience turnout, and streaming releases, resulting in a historically low box office year.\n",
    "        - However, 2021 saw a sharp rebound, with major hits like Spider-Man: No Way Home surpassing $1.9 billion.\n",
    "    - Some movies are breaking records, while others still struggle, suggesting a greater gap between blockbuster hits and lower-performing films.\n",
    "    - Box office revenue appears moderately strong, but not as high as pre-pandemic years (2018-2019), suggesting that while theaters have recovered, \n",
    "    the growth of streaming platforms and changes in audience behavior may be influencing box office performance.\n",
    "\n",
    "\"\"\""
   ]
  },
  {
   "cell_type": "code",
   "execution_count": null,
   "metadata": {},
   "outputs": [],
   "source": []
  }
 ],
 "metadata": {
  "kernelspec": {
   "display_name": "base",
   "language": "python",
   "name": "python3"
  },
  "language_info": {
   "codemirror_mode": {
    "name": "ipython",
    "version": 3
   },
   "file_extension": ".py",
   "mimetype": "text/x-python",
   "name": "python",
   "nbconvert_exporter": "python",
   "pygments_lexer": "ipython3",
   "version": "3.12.7"
  }
 },
 "nbformat": 4,
 "nbformat_minor": 2
}
