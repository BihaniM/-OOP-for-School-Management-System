{
 "cells": [
  {
   "cell_type": "markdown",
   "metadata": {},
   "source": [
    "# IMDB Analysis"
   ]
  },
  {
   "cell_type": "code",
   "execution_count": 22,
   "metadata": {},
   "outputs": [
    {
     "data": {
      "text/plain": [
       "\"\\nIMDb Top 250 Movies Scraper\\n\\nThis script uses Selenium to load the IMDb Top 250 page and BeautifulSoup to parse the HTML.\\nFor each movie, it fetches additional details from the individual movie page using requests.\\nThe final dataset is stored in a CSV file named 'imdb_top_movies.csv'.\\n\\nRequirements:\\n- Selenium WebDriver (ensure ChromeDriver is installed and the path is set correctly)\\n- BeautifulSoup4\\n- pandas\\n- requests\\n\""
      ]
     },
     "execution_count": 22,
     "metadata": {},
     "output_type": "execute_result"
    }
   ],
   "source": [
    "\"\"\"\n",
    "IMDb Top 250 Movies Scraper\n",
    "\n",
    "This script uses Selenium to load the IMDb Top 250 page and BeautifulSoup to parse the HTML.\n",
    "For each movie, it fetches additional details from the individual movie page using requests.\n",
    "The final dataset is stored in a CSV file named 'imdb_top_movies.csv'.\n",
    "\n",
    "Requirements:\n",
    "- Selenium WebDriver (ensure ChromeDriver is installed and the path is set correctly)\n",
    "- BeautifulSoup4\n",
    "- pandas\n",
    "- requests\n",
    "\"\"\""
   ]
  },
  {
   "cell_type": "code",
   "execution_count": 23,
   "metadata": {},
   "outputs": [],
   "source": [
    "from selenium import webdriver\n",
    "from selenium.webdriver.chrome.service import Service\n",
    "from bs4 import BeautifulSoup\n",
    "import pandas as pd\n",
    "import time\n",
    "import requests"
   ]
  },
  {
   "cell_type": "code",
   "execution_count": 24,
   "metadata": {},
   "outputs": [],
   "source": [
    "# IMDb Top 250 URL and HTTP headers\n",
    "BASE_URL = \"https://www.imdb.com/chart/top/\"\n",
    "HEADERS = {\"User-Agent\": \"Mozilla/5.0\"}"
   ]
  },
  {
   "cell_type": "code",
   "execution_count": 25,
   "metadata": {},
   "outputs": [],
   "source": [
    "def setup_driver():\n",
    "    \"\"\"\n",
    "    Initialize and return a Selenium WebDriver instance.\n",
    "    \n",
    "    Ensure that the ChromeDriver binary is available at the specified path.\n",
    "    \"\"\"\n",
    "    chromedriver_path = r\"C:\\Program Files (x86)\\chromedriver-win64\\chromedriver-win64\\chromedriver.exe\"\n",
    "    service = Service(chromedriver_path)\n",
    "    driver = webdriver.Chrome(service=service)\n",
    "    return driver"
   ]
  },
  {
   "cell_type": "code",
   "execution_count": 26,
   "metadata": {},
   "outputs": [],
   "source": [
    "def get_soup(url):\n",
    "    \"\"\"\n",
    "    Retrieve the HTML content of a webpage and parse it with BeautifulSoup.\n",
    "    \n",
    "    Parameters:\n",
    "        url (str): URL of the webpage to fetch.\n",
    "    \n",
    "    Returns:\n",
    "        BeautifulSoup: Parsed HTML if the request is successful; otherwise, None.\n",
    "    \"\"\"\n",
    "    response = requests.get(url, headers=HEADERS)\n",
    "    if response.status_code == 200:\n",
    "        return BeautifulSoup(response.text, \"html.parser\")\n",
    "    else:\n",
    "        print(f\"Failed to retrieve page: {url} (Status Code: {response.status_code})\")\n",
    "        return None"
   ]
  },
  {
   "cell_type": "code",
   "execution_count": 27,
   "metadata": {},
   "outputs": [],
   "source": [
    "def extract_movie_details(movie_soup):\n",
    "    \"\"\"\n",
    "    Extract detailed information from a movie's detail page.\n",
    "    \n",
    "    Parameters:\n",
    "        movie_soup (BeautifulSoup): Parsed HTML of the movie detail page.\n",
    "    \n",
    "    Returns:\n",
    "        tuple: Contains genre, directors, box office revenue, and lead actors.\n",
    "    \"\"\"\n",
    "    # Extract movie genres\n",
    "    genre_elements = movie_soup.select(\".ipc-chip-list__scroller a\")\n",
    "    genre = \", \".join([g.text.strip() for g in genre_elements]) if genre_elements else \"Unknown\"\n",
    "    \n",
    "    # Extract movie directors using elements with hrefs that contain '/name/'\n",
    "    director_elements = movie_soup.select(\".ipc-metadata-list-item__content-container a[href*='/name/']\")\n",
    "    directors = \", \".join({d.text.strip() for d in director_elements}) if director_elements else \"Unknown\"\n",
    "    \n",
    "    # Extract box office revenue (e.g., \"Gross worldwide\")\n",
    "    box_office_element = movie_soup.select_one(\".ipc-metadata-list__item:-soup-contains('Gross worldwide')\")\n",
    "    box_office_revenue = box_office_element.text.strip().split(\":\")[-1] if box_office_element else \"Unknown\"\n",
    "    \n",
    "    # Extract lead actors from the metadata section that contains \"Stars\"\n",
    "    lead_actors = \"Unknown\"\n",
    "    metadata_sections = movie_soup.find_all(\"li\", class_=\"ipc-metadata-list__item\")\n",
    "    for section in metadata_sections:\n",
    "        if section.find(string=\"Stars\"):\n",
    "            actor_elements = section.find_all(\"a\", href=lambda x: x and \"/name/\" in x)\n",
    "            lead_actors = \", \".join({actor.text.strip() for actor in actor_elements}) if actor_elements else \"Unknown\"\n",
    "            break\n",
    "    \n",
    "    return genre, directors, box_office_revenue, lead_actors"
   ]
  },
  {
   "cell_type": "code",
   "execution_count": 28,
   "metadata": {},
   "outputs": [
    {
     "name": "stdout",
     "output_type": "stream",
     "text": [
      "Scraping complete. Data saved to 'imdb_top_movies.csv'.\n"
     ]
    }
   ],
   "source": [
    "def scrape_imdb_movies_with_selenium():\n",
    "    \"\"\"\n",
    "    Scrape IMDb Top 250 movies and save the results to a CSV file.\n",
    "    \n",
    "    Steps:\n",
    "    1. Initialize Selenium WebDriver and load the IMDb Top 250 page.\n",
    "    2. Parse the loaded page with BeautifulSoup.\n",
    "    3. Iterate over each movie entry to extract basic details.\n",
    "    4. For each movie, fetch additional details from its individual page.\n",
    "    5. Compile the data into a pandas DataFrame and export it to 'imdb_top_movies.csv'.\n",
    "    \"\"\"\n",
    "    # Set up Selenium driver and load the IMDb Top 250 page\n",
    "    driver = setup_driver()\n",
    "    driver.get(BASE_URL)\n",
    "    time.sleep(3)  # Wait for dynamic content to load\n",
    "    \n",
    "    # Parse the page source using BeautifulSoup and then close the driver\n",
    "    soup = BeautifulSoup(driver.page_source, \"html.parser\")\n",
    "    driver.quit()\n",
    "    \n",
    "    movies_data = []\n",
    "    # Select movie entries (update the CSS selector if IMDb changes their layout)\n",
    "    movie_rows = soup.select(\".ipc-metadata-list-summary-item\")\n",
    "    if not movie_rows:\n",
    "        print(\"No movie data found. Check the HTML structure.\")\n",
    "        return\n",
    "    \n",
    "    for movie in movie_rows:\n",
    "        # Extract the movie title\n",
    "        title_element = movie.select_one(\"h3\")\n",
    "        title = title_element.text.strip() if title_element else \"Unknown\"\n",
    "        \n",
    "        # Extract the release year \n",
    "        year_elements = movie.select(\".sc-f30335b4-7\")\n",
    "        year = year_elements[0].text.strip() if year_elements else \"Unknown\"\n",
    "        \n",
    "        # Extract IMDb rating \n",
    "        rating_element = movie.select_one(\".ipc-rating-star--imdb\")\n",
    "        rating = rating_element.text.strip() if rating_element else \"Unknown\"\n",
    "        \n",
    "        # Construct the full URL for the movie detail page\n",
    "        movie_link_element = movie.select_one(\"a.ipc-title-link-wrapper\")\n",
    "        movie_link = \"https://www.imdb.com\" + movie_link_element[\"href\"] if movie_link_element else \"\"\n",
    "        \n",
    "        # Initialize detailed movie fields with default values\n",
    "        genre, directors, box_office_revenue, lead_actors = \"Unknown\", \"Unknown\", \"Unknown\", \"Unknown\"\n",
    "        \n",
    "        # Fetch and extract additional movie details if a valid link is found\n",
    "        if movie_link:\n",
    "            movie_soup = get_soup(movie_link)\n",
    "            if movie_soup:\n",
    "                genre, directors, box_office_revenue, lead_actors = extract_movie_details(movie_soup)\n",
    "        \n",
    "        # Append the collected data for the current movie\n",
    "        movies_data.append({\n",
    "            \"Title\": title,\n",
    "            \"Year\": year,\n",
    "            \"Rating\": rating,\n",
    "            \"Genre\": genre,\n",
    "            \"Director(s)\": directors,\n",
    "            \"Box Office Revenue\": box_office_revenue,\n",
    "            \"Lead Actors\": lead_actors,\n",
    "        })\n",
    "    \n",
    "    # Convert the list of movies into a DataFrame and save as CSV\n",
    "    df = pd.DataFrame(movies_data)\n",
    "    df.to_csv(\"imdb_top_movies.csv\", index=False)\n",
    "    print(\"Scraping complete. Data saved to 'imdb_top_movies.csv'.\")\n",
    "\n",
    "if __name__ == \"__main__\":\n",
    "    scrape_imdb_movies_with_selenium()"
   ]
  },
  {
   "cell_type": "code",
   "execution_count": null,
   "metadata": {},
   "outputs": [],
   "source": []
  }
 ],
 "metadata": {
  "kernelspec": {
   "display_name": "base",
   "language": "python",
   "name": "python3"
  },
  "language_info": {
   "codemirror_mode": {
    "name": "ipython",
    "version": 3
   },
   "file_extension": ".py",
   "mimetype": "text/x-python",
   "name": "python",
   "nbconvert_exporter": "python",
   "pygments_lexer": "ipython3",
   "version": "3.12.7"
  }
 },
 "nbformat": 4,
 "nbformat_minor": 2
}
