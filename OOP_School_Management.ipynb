{
 "cells": [
  {
   "cell_type": "markdown",
   "metadata": {},
   "source": [
    "# OOP for School Management System "
   ]
  },
  {
   "cell_type": "code",
   "execution_count": 56,
   "metadata": {},
   "outputs": [],
   "source": [
    "from abc import ABC, abstractmethod"
   ]
  },
  {
   "cell_type": "code",
   "execution_count": 57,
   "metadata": {},
   "outputs": [],
   "source": [
    "# OOP Concept: Inheritance - Base class Person is inherited by Student, Teacher, and Staff\n",
    "class Person(ABC):\n",
    "    \"\"\"\n",
    "    Base class representing a person in the school.\n",
    "    Demonstrates Inheritance (Super class for Student, Teacher, and Staff).\n",
    "    \"\"\"\n",
    "    \n",
    "    # Initialize the Person class with common attributes\n",
    "    def __init__(self, name: str, age: int, address: str,ssn: str):\n",
    "        self.name = name\n",
    "        self.age = age\n",
    "        self.address = address\n",
    "        self.__ssn = ssn  # OOP Concept: Encapsulation - Private attribute\n",
    "    \n",
    "    # Method to display basic information about the person\n",
    "    def display_info(self):\n",
    "        return f\"Name: {self.name}, Age: {self.age}, Address: {self.address}\"\n",
    "    \n",
    "    # Abstract method to enforce role definition in subclasses (Polymorphism)\n",
    "    @abstractmethod\n",
    "    def get_role(self):\n",
    "        pass\n",
    "    # OOP Concept: Encapsulation - Getter method for SSN\n",
    "    def get_ssn(self):\n",
    "        return self.__ssn\n",
    "    \n",
    "    # OOP Concept: Encapsulation - Setter method for SSN\n",
    "    def set_ssn(self, new_ssn):\n",
    "        self.__ssn = new_ssn\n",
    "    \n",
    "    # OOP Concept: Polymorphism - General role responsibilities (Overridden in subclasses)\n",
    "    def role_duties(self):\n",
    "        return \"General school responsibilities.\""
   ]
  },
  {
   "cell_type": "code",
   "execution_count": 58,
   "metadata": {},
   "outputs": [],
   "source": [
    "# OOP Concept: Inheritance - Student class inherits from Person\n",
    "class Student(Person):\n",
    "    \"\"\"\n",
    "    Represents a student with an ability to store and calculate grades.\n",
    "    Demonstrates Inheritance, Encapsulation (grades dictionary), and Method Overriding.\n",
    "    \"\"\"\n",
    "    \n",
    "    # Initialize the Student class with student-specific attributes\n",
    "    def __init__(self, name: str, age: int, address: str, ssn: str, student_id: str, grade: str):\n",
    "        super().__init__(name, age, address, ssn)\n",
    "        self.student_id = student_id\n",
    "        self.grade = grade\n",
    "        self.grades = {}  # Dictionary to store subject-wise grades (Encapsulation)\n",
    "        self.attendance_record = {}  # Dictionary to track attendance\n",
    "    \n",
    "    # Implement the abstract method to return the role (Polymorphism)\n",
    "    def get_role(self):\n",
    "        return \"Student\"\n",
    "    \n",
    "    # Override display_info method to include student-specific details\n",
    "    def display_info(self):\n",
    "        return f\"{super().display_info()}, Student ID: {self.student_id}, Grade: {self.grade}, Average Grade: {self.calculate_average():.2f}\"\n",
    "    \n",
    "    # OOP Concept: Encapsulation - Method to assign grades (data is stored privately in self.grades)\n",
    "    def assign_grades(self, grades: dict):\n",
    "        \"\"\"Assigns grades to the student and calculates the average.\"\"\"\n",
    "        self.grades = grades\n",
    "    \n",
    "    # Method to calculate the average grade\n",
    "    def calculate_average(self):\n",
    "        \"\"\"Calculates and returns the average grade.\"\"\"\n",
    "        if not self.grades:\n",
    "            return 0  # Return 0 if there are no grades assigned\n",
    "        return sum(self.grades.values()) / len(self.grades)\n",
    "    \n",
    "     # OOP Concept: Method Overriding - Defining role-specific duties for students\n",
    "    def role_duties(self):\n",
    "        return \"Attend classes, complete assignments, and participate in school activities.\"\n",
    "    \n",
    "    # OOP Concept: Encapsulation - Attendance tracking method\n",
    "    def attendance(self, subject: str, status: str):\n",
    "        \"\"\"Marks whether a student attended or missed a class.\"\"\"\n",
    "        self.attendance_record[subject] = status\n",
    "    \n",
    "    # Method to display attendance record\n",
    "    def display_attendance(self):\n",
    "        return self.attendance_record"
   ]
  },
  {
   "cell_type": "code",
   "execution_count": 59,
   "metadata": {},
   "outputs": [
    {
     "name": "stdout",
     "output_type": "stream",
     "text": [
      "Student Duties: Attend classes, complete assignments, and participate in school activities.\n",
      "Name: Alice Johnson, Age: 15, Address: 123 Main St, Student ID: S1001, Grade: 10th Grade, Average Grade: 84.33\n",
      "Student Attendance Record: {'Math': 'Present', 'Science': 'Absent'}\n"
     ]
    }
   ],
   "source": [
    "# Test Student class\n",
    "student = Student(\"Alice Johnson\", 15, \"123 Main St\", \"123-45-6789\", \"S1001\", \"10th Grade\")\n",
    "student.assign_grades({\"Math\": 85, \"Science\": 90, \"English\": 78})\n",
    "assert student.calculate_average() == (85 + 90 + 78) / 3\n",
    "print(\"Student Duties:\", student.role_duties())\n",
    "\n",
    "student.attendance(\"Math\", \"Present\") # Assign and test attendace method\n",
    "student.attendance(\"Science\", \"Absent\")\n",
    "print(student.display_info())  # Print student details with grades\n",
    "print(\"Student Attendance Record:\", student.display_attendance())"
   ]
  },
  {
   "cell_type": "code",
   "execution_count": null,
   "metadata": {},
   "outputs": [],
   "source": [
    "# OOP Concept: Inheritance - Teacher class inherits from Person\n",
    "class Teacher(Person):\n",
    "    \"\"\"\n",
    "    Represents a teacher with an additional attribute for the subject they teach.\n",
    "    Demonstrates Inheritance and Method Overriding.\n",
    "    \"\"\"\n",
    "    \n",
    "    # Initialize the Teacher class with teacher-specific attributes\n",
    "    def __init__(self, name: str, age: int, address: str, ssn: str, teacher_id: str, subject: str):\n",
    "        super().__init__(name, age, address, ssn)\n",
    "        self.teacher_id = teacher_id\n",
    "        self.subject = subject\n",
    "        self.class_schedule = {}  # Dictionary to store class schedules\n",
    "    \n",
    "    # Implement the abstract method to return the role (Polymorphism)\n",
    "    def get_role(self):\n",
    "        return \"Teacher\"\n",
    "    \n",
    "    # Override display_info method to include teacher-specific details\n",
    "    def display_info(self):\n",
    "        return f\"{super().display_info()}, Teacher ID: {self.teacher_id}, Subject: {self.subject}\"\n",
    "    \n",
    "    # OOP Concept: Method Overriding - Defining specific teacher duties\n",
    "    def role_duties(self):\n",
    "        return \"Conduct classes, evaluate students, and prepare lesson plans.\"\n",
    "    \n",
    "    # OOP Concept: Encapsulation - Method to schedule classes\n",
    "    def schedule_classes(self, schedule: dict):\n",
    "        \"\"\"Assigns a class schedule for the teacher.\"\"\"\n",
    "        self.class_schedule = schedule"
   ]
  },
  {
   "cell_type": "code",
   "execution_count": 61,
   "metadata": {},
   "outputs": [
    {
     "name": "stdout",
     "output_type": "stream",
     "text": [
      "Name: Mr. Smith, Age: 40, Address: 456 Elm St, Teacher ID: T2001, Subject: Mathematics\n",
      "Teacher SSN (using getter): 234-56-7890\n",
      "Updated Teacher SSN: 678-90-1234\n",
      "Teacher Duties: Conduct classes, evaluate students, and prepare lesson plans.\n",
      "Teacher's Schedule: {'Monday': 'Algebra', 'Wednesday': 'Geometry', 'Friday': 'Calculus'}\n"
     ]
    }
   ],
   "source": [
    "# Test Teacher class with SSN encapsulation\n",
    "teacher = Teacher(\"Mr. Smith\", 40, \"456 Elm St\", \"234-56-7890\", \"T2001\", \"Mathematics\")\n",
    "assert teacher.get_role() == \"Teacher\"  # Verify role\n",
    "print(teacher.display_info())  # Print teacher details\n",
    "print(\"Teacher SSN (using getter):\", teacher.get_ssn())  # Access SSN using getter\n",
    "teacher.set_ssn(\"678-90-1234\")  # Modify SSN using setter\n",
    "print(\"Updated Teacher SSN:\", teacher.get_ssn())\n",
    "print(\"Teacher Duties:\", teacher.role_duties())\n",
    "\n",
    "# Assign and print the teacher's class schedule\n",
    "teacher.schedule_classes({\"Monday\": \"Algebra\", \"Wednesday\": \"Geometry\", \"Friday\": \"Calculus\"})\n",
    "print(\"Teacher's Schedule:\", teacher.class_schedule)  # Print the assigned class schedule"
   ]
  },
  {
   "cell_type": "code",
   "execution_count": 62,
   "metadata": {},
   "outputs": [],
   "source": [
    "# OOP Concept: Inheritance - Staff class inherits from Person\n",
    "class Staff(Person):\n",
    "    \"\"\"\n",
    "    Represents a staff member with an additional attribute for job title and salary management.\n",
    "    Demonstrates Inheritance, Method Overriding, and Salary Calculation.\n",
    "    \"\"\"\n",
    "    \n",
    "    # Initialize the Staff class with staff-specific attributes\n",
    "    def __init__(self, name: str, age: int, address: str, ssn: str, staff_id: str, job_title: str, years_of_service: int, base_salary: float):\n",
    "        super().__init__(name, age, address, ssn)\n",
    "        self.staff_id = staff_id\n",
    "        self.job_title = job_title\n",
    "        self.years_of_service = years_of_service\n",
    "        self.base_salary = base_salary\n",
    "    \n",
    "    # Implement the abstract method to return the role (Polymorphism)\n",
    "    def get_role(self):\n",
    "        return \"Staff\"\n",
    "    \n",
    "    # Override display_info method to include staff-specific details\n",
    "    def display_info(self):\n",
    "        return f\"{super().display_info()}, Staff ID: {self.staff_id}, Job Title: {self.job_title}\"\n",
    "    \n",
    "     # OOP Concept: Method Overriding - Defines specific responsibilities for staff members\n",
    "    def role_duties(self):\n",
    "        return \"Manages logistics, supports administrative tasks, and maintains school operations.\"\n",
    "    \n",
    "    # OOP Concept: Encapsulation - Salary calculation\n",
    "    def calculate_salary(self):\n",
    "        \"\"\"Calculates salary based on years of service.\"\"\"\n",
    "        return self.base_salary + (self.years_of_service * 1000)\n",
    "    \n",
    "    def get_salary(self):\n",
    "        \"\"\"Returns the calculated salary.\"\"\"\n",
    "        return self.calculate_salary()\n"
   ]
  },
  {
   "cell_type": "code",
   "execution_count": 63,
   "metadata": {},
   "outputs": [
    {
     "name": "stdout",
     "output_type": "stream",
     "text": [
      "Name: Mrs. Brown, Age: 35, Address: 789 Oak St, Staff ID: ST3001, Job Title: Librarian\n",
      "Staff Duties: Manages logistics, supports administrative tasks, and maintains school operations.\n",
      "Calculated Salary: 50000\n"
     ]
    }
   ],
   "source": [
    "# Test Staff class\n",
    "staff = Staff(\"Mrs. Brown\", 35, \"789 Oak St\", \"987-65-4321\", \"ST3001\", \"Librarian\", 10, 40000)\n",
    "assert staff.get_role() == \"Staff\"  # Verify role\n",
    "print(staff.display_info())  # Print staff details\n",
    "print(\"Staff Duties:\", staff.role_duties())\n",
    "print(\"Calculated Salary:\", staff.get_salary())"
   ]
  },
  {
   "cell_type": "markdown",
   "metadata": {},
   "source": [
    "Task g: Polymorphism "
   ]
  },
  {
   "cell_type": "code",
   "execution_count": 64,
   "metadata": {},
   "outputs": [],
   "source": [
    "# --------------------------------------------------------------------\n",
    "# Demonstration of Polymorphism in the School System:\n",
    "#\n",
    "# Polymorphism allows the system to treat all different types of people (students, \n",
    "# teachers, staff) uniformly. Although each class has unique attributes and methods, \n",
    "# they all implement common methods like get_role() and display_info(). This enables \n",
    "# us to loop through a list of different individuals and call these methods without \n",
    "# worrying about their specific types.\n",
    "# --------------------------------------------------------------------"
   ]
  },
  {
   "cell_type": "code",
   "execution_count": 67,
   "metadata": {},
   "outputs": [
    {
     "name": "stdout",
     "output_type": "stream",
     "text": [
      "Student Details: Name: John Doe, Age: 16, Address: 123 Maple St, Student ID: S1001, Grade: A, Average Grade: 0.00\n",
      "Teacher Details: Name: Ms. Smith, Age: 40, Address: 456 Pine St, Teacher ID: T2002, Subject: Mathematics\n",
      "Staff Details: Name: Mrs. Brown, Age: 35, Address: 789 Oak St, Staff ID: ST3001, Job Title: Librarian\n",
      "Staff Duties: Manages logistics, supports administrative tasks, and maintains school operations.\n",
      "Calculated Staff Salary: 50000\n",
      "\n",
      "--- Basic Information for All Individuals (Polymorphism Example) ---\n",
      "Name: John Doe, Age: 16, Role: Student\n",
      "Name: Ms. Smith, Age: 40, Role: Teacher\n",
      "Name: Mrs. Brown, Age: 35, Role: Staff\n"
     ]
    }
   ],
   "source": [
    "def display_all_individuals():\n",
    "    \"\"\"\n",
    "    Creates instances of Student, Teacher, and Staff,\n",
    "    displays detailed information for each, and then\n",
    "    displays basic information (Name, Age, Role) for all individuals,\n",
    "    demonstrating polymorphism.\n",
    "    \"\"\"\n",
    "    # Create instances using the constructors defined in your base code.\n",
    "    # Student: (name, age, address, ssn, student_id, grade)\n",
    "    student = Student(\"John Doe\", 16, \"123 Maple St\", \"STU1234\", \"S1001\", \"A\")\n",
    "    \n",
    "    # Teacher: (name, age, address, ssn, teacher_id, subject)\n",
    "    teacher = Teacher(\"Ms. Smith\", 40, \"456 Pine St\", \"TCH5678\", \"T2002\", \"Mathematics\")\n",
    "    \n",
    "    # Staff: (name, age, address, ssn, staff_id, job_title, years_of_service, base_salary)\n",
    "    staff = Staff(\"Mrs. Brown\", 35, \"789 Oak St\", \"SSN7890\", \"ST3001\", \"Librarian\", 10, 40000)\n",
    "\n",
    "    # Display detailed information for each instance.\n",
    "    print(\"Student Details:\", student.display_info())\n",
    "    print(\"Teacher Details:\", teacher.display_info())\n",
    "    print(\"Staff Details:\", staff.display_info())\n",
    "    print(\"Staff Duties:\", staff.role_duties())\n",
    "    print(\"Calculated Staff Salary:\", staff.get_salary())\n",
    "\n",
    "    print(\"\\n--- Basic Information for All Individuals (Polymorphism Example) ---\")\n",
    "    # Create a list of all individuals.\n",
    "    individuals = [student, teacher, staff]\n",
    "    \n",
    "    # Loop through the list and display basic info uniformly.\n",
    "    for person in individuals:\n",
    "        print(f\"Name: {person.name}, Age: {person.age}, Role: {person.get_role()}\")\n",
    "\n",
    "if __name__ == \"__main__\":\n",
    "    display_all_individuals()\n"
   ]
  },
  {
   "cell_type": "code",
   "execution_count": 68,
   "metadata": {},
   "outputs": [],
   "source": [
    "# Polymorphism allows the school management system to treat different types of people \n",
    "# (students, teachers, and staff) in a uniform way using a common interface, despite each \n",
    "# type having its own specific attributes and responsibilities. The system achieves this by \n",
    "# having all these classes derive from a common base class (in this case, Person), and by \n",
    "# implementing common methods, such as get_role() to determine their position, and \n",
    "# display_info() in each of the derived classes. \n",
    "\n",
    "# Here is how polymorphism is useful:\n",
    "\n",
    "# 1. Uniform Processing: \n",
    "# Since each derived class implements the same interface, we can process a collection \n",
    "# of mixed objects (students, teachers, staff) without knowing their specific types. \n",
    "# For example, we can iterate over a list of all individuals and call get_role() \n",
    "# without needing to know what each specific implementation does.\n",
    "\n",
    "# 2. Consistent Representation: \n",
    "# Each derived class can override the display_info() method to include details specific \n",
    "# to that role, while still displaying common information (such as name and age) inherited \n",
    "# from the base class. This allows the system to present basic details uniformly while \n",
    "# maintaining the uniqueness of each role.\n",
    "\n",
    "# 3. Example in Use:\n",
    "# The display_all_individuals() function demonstrates polymorphism by creating instances \n",
    "# of Student, Teacher, and Staff, then iterating over the collection to display basic \n",
    "# information (name, age, role) for each individual. Even though each class has unique \n",
    "# processing logic, they all implement the display_info method, ensuring a unified and \n",
    "# maintainable approach to handling diverse entities.\n",
    "\n",
    "# In conclusion, polymorphism provides flexibility and scalability for the system. If new \n",
    "# types of people are introduced later, as long as they follow the same interface, the \n",
    "# existing code can process them without requiring modifications."
   ]
  },
  {
   "cell_type": "code",
   "execution_count": null,
   "metadata": {},
   "outputs": [],
   "source": []
  }
 ],
 "metadata": {
  "kernelspec": {
   "display_name": "base",
   "language": "python",
   "name": "python3"
  },
  "language_info": {
   "codemirror_mode": {
    "name": "ipython",
    "version": 3
   },
   "file_extension": ".py",
   "mimetype": "text/x-python",
   "name": "python",
   "nbconvert_exporter": "python",
   "pygments_lexer": "ipython3",
   "version": "3.12.7"
  }
 },
 "nbformat": 4,
 "nbformat_minor": 2
}
