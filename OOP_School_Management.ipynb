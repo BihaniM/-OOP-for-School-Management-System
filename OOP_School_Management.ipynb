{
 "cells": [
  {
   "cell_type": "markdown",
   "metadata": {},
   "source": [
    "# OOP for School Management System "
   ]
  },
  {
   "cell_type": "markdown",
   "metadata": {},
   "source": [
    "a. Inheritance in School Classes:"
   ]
  },
  {
   "cell_type": "code",
   "execution_count": 12,
   "metadata": {},
   "outputs": [],
   "source": [
    "from abc import ABC, abstractmethod"
   ]
  },
  {
   "cell_type": "code",
   "execution_count": 13,
   "metadata": {},
   "outputs": [],
   "source": [
    "# Base class representing a person in the school.\n",
    "class Person(ABC):   \n",
    "    # Initialize the Person class with common attributes\n",
    "    def __init__(self, name: str, age: int, address: str):\n",
    "        self.name = name\n",
    "        self.age = age\n",
    "        self.address = address\n",
    "    \n",
    "    # Method to display basic information about the person\n",
    "    def display_info(self):\n",
    "        return f\"Name: {self.name}, Age: {self.age}, Address: {self.address}\"\n",
    "    \n",
    "    # Abstract method to enforce role definition in subclasses\n",
    "    @abstractmethod\n",
    "    def get_role(self):\n",
    "        pass"
   ]
  },
  {
   "cell_type": "code",
   "execution_count": 14,
   "metadata": {},
   "outputs": [],
   "source": [
    "# Represents a student with an additional attribute for grade level.\n",
    "class Student(Person):    \n",
    "    # Initialize the Student class with student-specific attributes\n",
    "    def __init__(self, name: str, age: int, address: str, student_id: str, grade: str):\n",
    "        super().__init__(name, age, address)\n",
    "        self.student_id = student_id\n",
    "        self.grade = grade\n",
    "    \n",
    "    # Implement the abstract method to return the role\n",
    "    def get_role(self):\n",
    "        return \"Student\"\n",
    "    \n",
    "    # Override display_info method to include student-specific details\n",
    "    def display_info(self):\n",
    "        return f\"{super().display_info()}, Student ID: {self.student_id}, Grade: {self.grade}\""
   ]
  },
  {
   "cell_type": "code",
   "execution_count": 15,
   "metadata": {},
   "outputs": [
    {
     "name": "stdout",
     "output_type": "stream",
     "text": [
      "Name: Amy Santiago, Age: 18, Address: 123 ABC Road, Student ID: 1001, Grade: 13h Grade\n"
     ]
    }
   ],
   "source": [
    "# Test Student class\n",
    "student = Student(\"Amy Santiago\", 18, \"123 ABC Road\", \"1001\", \"13h Grade\")\n",
    "assert student.get_role() == \"Student\"  # Verify role\n",
    "assert \"Student ID: 1001\" in student.display_info()  # Verify student details\n",
    "print(student.display_info())  # Print student details"
   ]
  },
  {
   "cell_type": "code",
   "execution_count": 16,
   "metadata": {},
   "outputs": [],
   "source": [
    "# Represents a teacher with an additional attribute for the subject they teach.\n",
    "class Teacher(Person):\n",
    "    # Initialize the Teacher class with teacher-specific attributes\n",
    "    def __init__(self, name: str, age: int, address: str, teacher_id: str, subject: str):\n",
    "        super().__init__(name, age, address)\n",
    "        self.teacher_id = teacher_id\n",
    "        self.subject = subject\n",
    "    \n",
    "    # Implement the abstract method to return the role\n",
    "    def get_role(self):\n",
    "        return \"Teacher\"\n",
    "    \n",
    "    # Override display_info method to include teacher-specific details\n",
    "    def display_info(self):\n",
    "        return f\"{super().display_info()}, Teacher ID: {self.teacher_id}, Subject: {self.subject}\""
   ]
  },
  {
   "cell_type": "code",
   "execution_count": 17,
   "metadata": {},
   "outputs": [
    {
     "name": "stdout",
     "output_type": "stream",
     "text": [
      "Name: Mr. Jake Peralta, Age: 40, Address: 456 xyz road, Teacher ID: 2001, Subject: Mathematics\n"
     ]
    }
   ],
   "source": [
    "# Test Teacher class\n",
    "teacher = Teacher(\"Mr. Jake Peralta\", 40, \"456 xyz road\", \"2001\", \"Mathematics\")\n",
    "assert teacher.get_role() == \"Teacher\"  # Verify role\n",
    "assert \"Subject: Mathematics\" in teacher.display_info()  # Verify subject details\n",
    "print(teacher.display_info())  # Print teacher details"
   ]
  },
  {
   "cell_type": "code",
   "execution_count": 18,
   "metadata": {},
   "outputs": [],
   "source": [
    "# Represents a staff member with an additional attribute for job title.\n",
    "class Staff(Person):    \n",
    "    # Initialize the Staff class with staff-specific attributes\n",
    "    def __init__(self, name: str, age: int, address: str, staff_id: str, job_title: str):\n",
    "        super().__init__(name, age, address)\n",
    "        self.staff_id = staff_id\n",
    "        self.job_title = job_title\n",
    "    \n",
    "    # Implement the abstract method to return the role\n",
    "    def get_role(self):\n",
    "        return \"Staff\"\n",
    "    \n",
    "    # Override display_info method to include staff-specific details\n",
    "    def display_info(self):\n",
    "        return f\"{super().display_info()}, Staff ID: {self.staff_id}, Job Title: {self.job_title}\""
   ]
  },
  {
   "cell_type": "code",
   "execution_count": 19,
   "metadata": {},
   "outputs": [
    {
     "name": "stdout",
     "output_type": "stream",
     "text": [
      "Name: Mrs. Rosa Diaz, Age: 35, Address: 789 GHI Road, Staff ID: 3001, Job Title: Librarian\n"
     ]
    }
   ],
   "source": [
    "# Test Staff class\n",
    "staff = Staff(\"Mrs. Rosa Diaz\", 35, \"789 GHI Road\", \"3001\", \"Librarian\")\n",
    "assert staff.get_role() == \"Staff\"  # Verify role\n",
    "assert \"Job Title: Librarian\" in staff.display_info()  # Verify job title details\n",
    "print(staff.display_info())  # Print staff details"
   ]
  }
 ],
 "metadata": {
  "kernelspec": {
   "display_name": "base",
   "language": "python",
   "name": "python3"
  },
  "language_info": {
   "codemirror_mode": {
    "name": "ipython",
    "version": 3
   },
   "file_extension": ".py",
   "mimetype": "text/x-python",
   "name": "python",
   "nbconvert_exporter": "python",
   "pygments_lexer": "ipython3",
   "version": "3.12.7"
  }
 },
 "nbformat": 4,
 "nbformat_minor": 2
}
