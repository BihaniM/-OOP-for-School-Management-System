{
 "cells": [
  {
   "cell_type": "markdown",
   "metadata": {},
   "source": [
    "# OOP for School Management System "
   ]
  },
  {
   "cell_type": "code",
   "execution_count": 2,
   "metadata": {},
   "outputs": [],
   "source": [
    "from abc import ABC, abstractmethod"
   ]
  },
  {
   "cell_type": "code",
   "execution_count": 3,
   "metadata": {},
   "outputs": [],
   "source": [
    "# OOP Concept: Inheritance - Base class Person is inherited by Student, Teacher, and Staff\n",
    "class Person(ABC):\n",
    "    \"\"\"\n",
    "    Base class representing a person in the school.\n",
    "    Demonstrates Inheritance (Super class for Student, Teacher, and Staff).\n",
    "    \"\"\"\n",
    "    \n",
    "    # Initialize the Person class with common attributes\n",
    "    def __init__(self, name: str, age: int, address: str):\n",
    "        self.name = name\n",
    "        self.age = age\n",
    "        self.address = address\n",
    "    \n",
    "    # Method to display basic information about the person\n",
    "    def display_info(self):\n",
    "        return f\"Name: {self.name}, Age: {self.age}, Address: {self.address}\"\n",
    "    \n",
    "    # Abstract method to enforce role definition in subclasses (Polymorphism)\n",
    "    @abstractmethod\n",
    "    def get_role(self):\n",
    "        pass"
   ]
  },
  {
   "cell_type": "code",
   "execution_count": 10,
   "metadata": {},
   "outputs": [],
   "source": [
    "# OOP Concept: Inheritance - Student class inherits from Person\n",
    "class Student(Person):\n",
    "    \"\"\"\n",
    "    Represents a student with an ability to store and calculate grades.\n",
    "    Demonstrates Inheritance, Encapsulation (grades dictionary), and Method Overriding.\n",
    "    \"\"\"\n",
    "    \n",
    "    # Initialize the Student class with student-specific attributes\n",
    "    def __init__(self, name: str, age: int, address: str, student_id: str, grade: str):\n",
    "        super().__init__(name, age, address)\n",
    "        self.student_id = student_id\n",
    "        self.grade = grade\n",
    "        self.grades = {}  # Dictionary to store subject-wise grades (Encapsulation)\n",
    "    \n",
    "    # Implement the abstract method to return the role (Polymorphism)\n",
    "    def get_role(self):\n",
    "        return \"Student\"\n",
    "    \n",
    "    # Override display_info method to include student-specific details\n",
    "    def display_info(self):\n",
    "        return f\"{super().display_info()}, Student ID: {self.student_id}, Grade: {self.grade}, Average Grade: {self.calculate_average():.2f}\"\n",
    "    \n",
    "    # OOP Concept: Encapsulation - Method to assign grades (data is stored privately in self.grades)\n",
    "    def assign_grades(self, grades: dict):\n",
    "        \"\"\"Assigns grades to the student and calculates the average.\"\"\"\n",
    "        self.grades = grades\n",
    "    \n",
    "    # Method to calculate the average grade\n",
    "    def calculate_average(self):\n",
    "        \"\"\"Calculates and returns the average grade.\"\"\"\n",
    "        if not self.grades:\n",
    "            return 0  # Return 0 if there are no grades assigned\n",
    "        return sum(self.grades.values()) / len(self.grades)"
   ]
  },
  {
   "cell_type": "code",
   "execution_count": 11,
   "metadata": {},
   "outputs": [
    {
     "name": "stdout",
     "output_type": "stream",
     "text": [
      "Name: Alice Johnson, Age: 15, Address: 123 Main St, Student ID: S1001, Grade: 10th Grade, Average Grade: 84.33\n"
     ]
    }
   ],
   "source": [
    "# Test Student class with grade assignment\n",
    "student = Student(\"Alice Johnson\", 15, \"123 Main St\", \"S1001\", \"10th Grade\")\n",
    "student.assign_grades({\"Math\": 85, \"Science\": 90, \"English\": 78})  # Assign grades\n",
    "assert student.calculate_average() == (85 + 90 + 78) / 3  # Verify average calculation\n",
    "print(student.display_info())  # Print student details with grades"
   ]
  },
  {
   "cell_type": "code",
   "execution_count": 12,
   "metadata": {},
   "outputs": [],
   "source": [
    "# OOP Concept: Inheritance - Teacher class inherits from Person\n",
    "class Teacher(Person):\n",
    "    \"\"\"\n",
    "    Represents a teacher with an additional attribute for the subject they teach.\n",
    "    Demonstrates Inheritance and Method Overriding.\n",
    "    \"\"\"\n",
    "    \n",
    "    # Initialize the Teacher class with teacher-specific attributes\n",
    "    def __init__(self, name: str, age: int, address: str, teacher_id: str, subject: str):\n",
    "        super().__init__(name, age, address)\n",
    "        self.teacher_id = teacher_id\n",
    "        self.subject = subject\n",
    "    \n",
    "    # Implement the abstract method to return the role (Polymorphism)\n",
    "    def get_role(self):\n",
    "        return \"Teacher\"\n",
    "    \n",
    "    # Override display_info method to include teacher-specific details\n",
    "    def display_info(self):\n",
    "        return f\"{super().display_info()}, Teacher ID: {self.teacher_id}, Subject: {self.subject}\""
   ]
  },
  {
   "cell_type": "code",
   "execution_count": 7,
   "metadata": {},
   "outputs": [
    {
     "name": "stdout",
     "output_type": "stream",
     "text": [
      "Name: Mr. Jake Peralta, Age: 40, Address: 456 xyz road, Teacher ID: 2001, Subject: Mathematics\n"
     ]
    }
   ],
   "source": [
    "# Test Teacher class\n",
    "teacher = Teacher(\"Mr. Jake Peralta\", 40, \"456 xyz road\", \"2001\", \"Mathematics\")\n",
    "assert teacher.get_role() == \"Teacher\"  # Verify role\n",
    "assert \"Subject: Mathematics\" in teacher.display_info()  # Verify subject details\n",
    "print(teacher.display_info())  # Print teacher details"
   ]
  },
  {
   "cell_type": "code",
   "execution_count": 13,
   "metadata": {},
   "outputs": [],
   "source": [
    "# OOP Concept: Inheritance - Staff class inherits from Person\n",
    "class Staff(Person):\n",
    "    \"\"\"\n",
    "    Represents a staff member with an additional attribute for job title.\n",
    "    Demonstrates Inheritance and Method Overriding.\n",
    "    \"\"\"\n",
    "    \n",
    "    # Initialize the Staff class with staff-specific attributes\n",
    "    def __init__(self, name: str, age: int, address: str, staff_id: str, job_title: str):\n",
    "        super().__init__(name, age, address)\n",
    "        self.staff_id = staff_id\n",
    "        self.job_title = job_title\n",
    "    \n",
    "    # Implement the abstract method to return the role (Polymorphism)\n",
    "    def get_role(self):\n",
    "        return \"Staff\"\n",
    "    \n",
    "    # Override display_info method to include staff-specific details\n",
    "    def display_info(self):\n",
    "        return f\"{super().display_info()}, Staff ID: {self.staff_id}, Job Title: {self.job_title}\""
   ]
  },
  {
   "cell_type": "code",
   "execution_count": 14,
   "metadata": {},
   "outputs": [
    {
     "name": "stdout",
     "output_type": "stream",
     "text": [
      "Name: Mrs. Rosa Diaz, Age: 35, Address: 789 GHI Road, Staff ID: 3001, Job Title: Librarian\n"
     ]
    }
   ],
   "source": [
    "# Test Staff class\n",
    "staff = Staff(\"Mrs. Rosa Diaz\", 35, \"789 GHI Road\", \"3001\", \"Librarian\")\n",
    "assert staff.get_role() == \"Staff\"  # Verify role\n",
    "assert \"Job Title: Librarian\" in staff.display_info()  # Verify job title details\n",
    "print(staff.display_info())  # Print staff details"
   ]
  },
  {
   "cell_type": "code",
   "execution_count": null,
   "metadata": {},
   "outputs": [],
   "source": []
  }
 ],
 "metadata": {
  "kernelspec": {
   "display_name": "base",
   "language": "python",
   "name": "python3"
  },
  "language_info": {
   "codemirror_mode": {
    "name": "ipython",
    "version": 3
   },
   "file_extension": ".py",
   "mimetype": "text/x-python",
   "name": "python",
   "nbconvert_exporter": "python",
   "pygments_lexer": "ipython3",
   "version": "3.12.7"
  }
 },
 "nbformat": 4,
 "nbformat_minor": 2
}
